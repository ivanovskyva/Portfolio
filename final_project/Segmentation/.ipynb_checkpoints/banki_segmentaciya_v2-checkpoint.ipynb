{
 "cells": [
  {
   "cell_type": "markdown",
   "id": "3da147e9",
   "metadata": {},
   "source": [
    "<div style=\"background:#d4d6fa; color:#000; padding:10px\">\n",
    "    <p><big><b> Комментарий тимлида: </b></big></p> \n",
    "Здравствуй, Владимир! Меня зовут Москвин Антон! Я буду использовать стандартную цветовую разметку комментариев:\n",
    "<div class=\"alert alert-success\">\n",
    "        <strong>👍 Зелёным</strong> цветом я буду выделять удачные и элегантные решения, на которые можно опираться в будущих проектах. \n",
    "    </div> \n",
    "    <div class=\"alert alert-warning\">\n",
    "        <strong>⚠️Желтым</strong> будет выделено то, что в следующий раз стоит сделать по-другому. Одно-два таких замечаний в проекте допустимы, но если их будет больше, то нужно будет внести изменения.\n",
    "    </div>\n",
    "    <div class=\"alert alert-danger\">\n",
    "        <strong>⛔️Красным</strong> - то, что необходимо исправить, прежде чем я смогу принять твой проект.\n",
    "    </div> \n",
    "Пожалуйста, не удаляй и не передвигай их.\n",
    "</div>\n"
   ]
  },
  {
   "cell_type": "markdown",
   "id": "38a3938a",
   "metadata": {},
   "source": [
    "# Сегментация клиентов в банке"
   ]
  },
  {
   "cell_type": "markdown",
   "id": "c484f9ac",
   "metadata": {},
   "source": [
    "## Декомпозиция"
   ]
  },
  {
   "cell_type": "markdown",
   "id": "8c4570fa",
   "metadata": {},
   "source": [
    "<div class='alert alert-danger'> ⛔️\n",
    "Добавь общую информацию о проекте и его целях!"
   ]
  },
  {
   "cell_type": "markdown",
   "id": "464fc886",
   "metadata": {},
   "source": [
    "В проекте проведена сегментация клиентов ярославского банка \"Метанпром\" по склонности к оттоку и числу продуктов."
   ]
  },
  {
   "cell_type": "markdown",
   "id": "60edbe3d",
   "metadata": {},
   "source": [
    "<div class=\"alert alert-info\"> <b>Комментарий студента:</b> Спасибо! Сделал.</div>"
   ]
  },
  {
   "cell_type": "markdown",
   "id": "6dabc3ce",
   "metadata": {},
   "source": [
    "<div class='alert alert-success'> 👍\t    \n",
    "У тебя получился отличный план, продолжай работу над проектом в соответствии с пунктами данного плана!\n"
   ]
  },
  {
   "cell_type": "markdown",
   "id": "836565ee",
   "metadata": {},
   "source": [
    "### Загрузка данных/библиотек и первичное ознакомление\n",
    "1. Импорт библиотек **pandas**, **seaborn**, **matplotlib**, **stats from scipy**, **statsmodels** и **numpy**\n",
    "2. Загрузка входных данных\n",
    "3. Обзор входных данных: \n",
    " - описание полей и числа строк\n",
    " - типы данных\n",
    " - наличие пропусков"
   ]
  },
  {
   "cell_type": "markdown",
   "id": "29f140fd",
   "metadata": {},
   "source": [
    "### Преодбработка данных\n",
    "1. Удаление явных и неявных дубликатов\n",
    "2. Изучение пропусков в поле **Balance**\n",
    "3. Удаление записей с аномальными значениями\n",
    "3. Добавление поля с категориями возрастов"
   ]
  },
  {
   "cell_type": "markdown",
   "id": "8087e9d5",
   "metadata": {},
   "source": [
    "### Исследовательский анализ данных (EDA)\n",
    "Анализ с целью выявить дополнительные признаки (помимо числа продуктов и оттока) для сегментации и числа сегментов\n",
    "1. Построение матрицы корелляции\n",
    "2. Построение графиков с распределением признаков"
   ]
  },
  {
   "cell_type": "markdown",
   "id": "8817aa17",
   "metadata": {},
   "source": [
    "### Сегментация данных (выделение сегментов)\n",
    "1. Выделение сегментов кластеризацией методом **К-средних**\n",
    "2. Визуализация полученного распределения клиентов по кластерам - сегментам\n",
    "3. Значения признаков в центрах кластеров"
   ]
  },
  {
   "cell_type": "markdown",
   "id": "8dbbb3e0",
   "metadata": {},
   "source": [
    "### Статистическое исследование данных (Проверка гипотез)\n",
    "1. Обоснование выбора статкритерия для проверки первой гипотезы\n",
    "2. Проверка первой гипотезы\n",
    "3. Формулировка второй гипотезы\n",
    "4. Обоснование выбора статкритерия для проверки второй гипотезы"
   ]
  },
  {
   "cell_type": "markdown",
   "id": "d2fc5bee",
   "metadata": {},
   "source": [
    "### Выводы и рекомендации по удержанию сегментов\n",
    "1. Представление полученных сегментов\n",
    "2. Рекомендации по удержанию для сегментов с оттоком"
   ]
  },
  {
   "cell_type": "markdown",
   "id": "817d8818",
   "metadata": {},
   "source": [
    "<div class='alert alert-danger'> ⛔️\n",
    "Верни, пожалуйста, все комментарии с прошлого этапа. Декомпозиция и проект выполняются в одном ноутбуке.\n"
   ]
  },
  {
   "cell_type": "markdown",
   "id": "a2b75fa5",
   "metadata": {},
   "source": [
    "<div class=\"alert alert-info\"> <b>Комментарий студента:</b> Спасибо! Сделал.</div>"
   ]
  },
  {
   "cell_type": "markdown",
   "id": "fb3fe7fe",
   "metadata": {},
   "source": [
    "# Сегментация клиентов в банке"
   ]
  },
  {
   "cell_type": "markdown",
   "id": "8da4d157",
   "metadata": {},
   "source": [
    "В проекте проведена сегментация клиентов ярославского банка \"Метанпром\" по склонности к оттоку и числу продуктов.\n",
    "\n",
    "Ссылка на презентацию: https://disk.yandex.ru/i/gx0TaGF4UdjizQ\n",
    "\n",
    "Ссылка на дашборд: https://public.tableau.com/views/Segmentation_16697925774820/Dashboard1?:language=en-US&:display_count=n&:origin=viz_share_link"
   ]
  },
  {
   "cell_type": "markdown",
   "id": "411f3568",
   "metadata": {},
   "source": [
    "<div class='alert alert-danger'> ⛔️\n",
    "В презентации не хватает оглавления, не раскрыты портреты сегментов, сами сегменты не отвечают требованиям заказчика(сегментация по числу продуктов), отсутствуют рекомендации по удержанию. Пересмотри запись встречи. "
   ]
  },
  {
   "cell_type": "markdown",
   "id": "b44f993e",
   "metadata": {},
   "source": [
    "<div class=\"alert alert-info\"> <b>Комментарий студента:</b> Спасибо! Сделал </div>"
   ]
  },
  {
   "cell_type": "markdown",
   "id": "eb9ff1a4",
   "metadata": {},
   "source": [
    "<div class='alert alert-success'> 👍\n",
    "Спасибо за работу! Дашборд принят, все критерии соблюдены\n"
   ]
  },
  {
   "cell_type": "markdown",
   "id": "836565ee",
   "metadata": {},
   "source": [
    "## 1 Загрузка данных/библиотек и первичное ознакомление\n",
    "### 1.1 Импорт библиотек\n"
   ]
  },
  {
   "cell_type": "code",
   "execution_count": 1,
   "id": "4e84ba3a",
   "metadata": {},
   "outputs": [],
   "source": [
    "import pandas as pd\n",
    "import seaborn as sn\n",
    "import matplotlib.pyplot as plt\n",
    "from sklearn.preprocessing import StandardScaler\n",
    "from sklearn.cluster import KMeans\n",
    "from sklearn.preprocessing import LabelEncoder\n",
    "import scipy.stats as st\n",
    "import warnings \n",
    "warnings.filterwarnings(\"ignore\")\n"
   ]
  },
  {
   "cell_type": "markdown",
   "id": "c410cd96",
   "metadata": {},
   "source": [
    "### 1.2 Загрузка входных данных\n"
   ]
  },
  {
   "cell_type": "code",
   "execution_count": 2,
   "id": "d18f9930",
   "metadata": {},
   "outputs": [
    {
     "data": {
      "text/html": [
       "<div>\n",
       "<style scoped>\n",
       "    .dataframe tbody tr th:only-of-type {\n",
       "        vertical-align: middle;\n",
       "    }\n",
       "\n",
       "    .dataframe tbody tr th {\n",
       "        vertical-align: top;\n",
       "    }\n",
       "\n",
       "    .dataframe thead th {\n",
       "        text-align: right;\n",
       "    }\n",
       "</style>\n",
       "<table border=\"1\" class=\"dataframe\">\n",
       "  <thead>\n",
       "    <tr style=\"text-align: right;\">\n",
       "      <th></th>\n",
       "      <th>userid</th>\n",
       "      <th>score</th>\n",
       "      <th>City</th>\n",
       "      <th>Gender</th>\n",
       "      <th>Age</th>\n",
       "      <th>Objects</th>\n",
       "      <th>Balance</th>\n",
       "      <th>Products</th>\n",
       "      <th>CreditCard</th>\n",
       "      <th>Loyalty</th>\n",
       "      <th>estimated_salary</th>\n",
       "      <th>Churn</th>\n",
       "    </tr>\n",
       "  </thead>\n",
       "  <tbody>\n",
       "    <tr>\n",
       "      <th>0</th>\n",
       "      <td>15677338</td>\n",
       "      <td>619</td>\n",
       "      <td>Ярославль</td>\n",
       "      <td>Ж</td>\n",
       "      <td>42</td>\n",
       "      <td>2</td>\n",
       "      <td>NaN</td>\n",
       "      <td>1</td>\n",
       "      <td>1</td>\n",
       "      <td>1</td>\n",
       "      <td>101348.88</td>\n",
       "      <td>1</td>\n",
       "    </tr>\n",
       "    <tr>\n",
       "      <th>1</th>\n",
       "      <td>15690047</td>\n",
       "      <td>608</td>\n",
       "      <td>Рыбинск</td>\n",
       "      <td>Ж</td>\n",
       "      <td>41</td>\n",
       "      <td>1</td>\n",
       "      <td>83807.86</td>\n",
       "      <td>1</td>\n",
       "      <td>0</td>\n",
       "      <td>1</td>\n",
       "      <td>112542.58</td>\n",
       "      <td>0</td>\n",
       "    </tr>\n",
       "    <tr>\n",
       "      <th>2</th>\n",
       "      <td>15662040</td>\n",
       "      <td>502</td>\n",
       "      <td>Ярославль</td>\n",
       "      <td>Ж</td>\n",
       "      <td>42</td>\n",
       "      <td>8</td>\n",
       "      <td>159660.80</td>\n",
       "      <td>3</td>\n",
       "      <td>1</td>\n",
       "      <td>0</td>\n",
       "      <td>113931.57</td>\n",
       "      <td>1</td>\n",
       "    </tr>\n",
       "    <tr>\n",
       "      <th>3</th>\n",
       "      <td>15744090</td>\n",
       "      <td>699</td>\n",
       "      <td>Ярославль</td>\n",
       "      <td>Ж</td>\n",
       "      <td>39</td>\n",
       "      <td>1</td>\n",
       "      <td>NaN</td>\n",
       "      <td>2</td>\n",
       "      <td>0</td>\n",
       "      <td>0</td>\n",
       "      <td>93826.63</td>\n",
       "      <td>0</td>\n",
       "    </tr>\n",
       "    <tr>\n",
       "      <th>4</th>\n",
       "      <td>15780624</td>\n",
       "      <td>850</td>\n",
       "      <td>Рыбинск</td>\n",
       "      <td>Ж</td>\n",
       "      <td>43</td>\n",
       "      <td>2</td>\n",
       "      <td>125510.82</td>\n",
       "      <td>1</td>\n",
       "      <td>1</td>\n",
       "      <td>1</td>\n",
       "      <td>79084.10</td>\n",
       "      <td>0</td>\n",
       "    </tr>\n",
       "  </tbody>\n",
       "</table>\n",
       "</div>"
      ],
      "text/plain": [
       "     userid  score       City Gender  Age  Objects    Balance  Products  \\\n",
       "0  15677338    619  Ярославль      Ж   42        2        NaN         1   \n",
       "1  15690047    608    Рыбинск      Ж   41        1   83807.86         1   \n",
       "2  15662040    502  Ярославль      Ж   42        8  159660.80         3   \n",
       "3  15744090    699  Ярославль      Ж   39        1        NaN         2   \n",
       "4  15780624    850    Рыбинск      Ж   43        2  125510.82         1   \n",
       "\n",
       "   CreditCard  Loyalty  estimated_salary  Churn  \n",
       "0           1        1         101348.88      1  \n",
       "1           0        1         112542.58      0  \n",
       "2           1        0         113931.57      1  \n",
       "3           0        0          93826.63      0  \n",
       "4           1        1          79084.10      0  "
      ]
     },
     "metadata": {},
     "output_type": "display_data"
    }
   ],
   "source": [
    "try:\n",
    "    df = pd.read_csv('/datasets/bank_dataset.csv')\n",
    "except:\n",
    "    df = pd.read_csv(\"bank_dataset.csv\")\n",
    "display(df.head(5))"
   ]
  },
  {
   "cell_type": "markdown",
   "id": "fe448754",
   "metadata": {},
   "source": [
    "<div class='alert alert-success'> 👍\n",
    "Хорошее начало, круто что владеешь конструкцией обработки исключений!\n"
   ]
  },
  {
   "cell_type": "markdown",
   "id": "e38c5579",
   "metadata": {},
   "source": [
    "### 1.3 Обзор входных данных: \n",
    "Датасет содержит данные о клиентах банка «Метанпром». Банк располагается в Ярославле и областных городах: Ростов Великий и Рыбинск.\n",
    "\n",
    "Колонки:\n",
    "\n",
    "- `userid` — идентификатор пользователя,\n",
    "- `score` — баллы кредитного скоринга,\n",
    "- `City` — город,\n",
    "- `Gender` — пол,\n",
    "- `Age` — возраст,\n",
    "- `Objects` — количество объектов в собственности,\n",
    "- `Balance` — баланс на счёте,\n",
    "- `Products` — количество продуктов, которыми пользуется клиент,\n",
    "- `CreditCard` — есть ли кредитная карта,\n",
    "- `Loyalty` — активный клиент,\n",
    "- `estimated_salary` — заработная плата клиента,\n",
    "- `Churn` — ушёл или нет."
   ]
  },
  {
   "cell_type": "code",
   "execution_count": 3,
   "id": "05133666",
   "metadata": {
    "scrolled": true
   },
   "outputs": [
    {
     "name": "stdout",
     "output_type": "stream",
     "text": [
      "<class 'pandas.core.frame.DataFrame'>\n",
      "RangeIndex: 10000 entries, 0 to 9999\n",
      "Data columns (total 12 columns):\n",
      " #   Column            Non-Null Count  Dtype  \n",
      "---  ------            --------------  -----  \n",
      " 0   userid            10000 non-null  int64  \n",
      " 1   score             10000 non-null  int64  \n",
      " 2   City              10000 non-null  object \n",
      " 3   Gender            10000 non-null  object \n",
      " 4   Age               10000 non-null  int64  \n",
      " 5   Objects           10000 non-null  int64  \n",
      " 6   Balance           6383 non-null   float64\n",
      " 7   Products          10000 non-null  int64  \n",
      " 8   CreditCard        10000 non-null  int64  \n",
      " 9   Loyalty           10000 non-null  int64  \n",
      " 10  estimated_salary  10000 non-null  float64\n",
      " 11  Churn             10000 non-null  int64  \n",
      "dtypes: float64(2), int64(8), object(2)\n",
      "memory usage: 937.6+ KB\n"
     ]
    }
   ],
   "source": [
    "df.info()"
   ]
  },
  {
   "cell_type": "markdown",
   "id": "166c6bda",
   "metadata": {},
   "source": [
    "Всего **10 тыс. записей**.\n",
    "\n",
    "В поле **Balance 3617 пропусков**."
   ]
  },
  {
   "cell_type": "markdown",
   "id": "3d35bd41",
   "metadata": {},
   "source": [
    "<div class='alert alert-success'> 👍\t\n",
    "Хорошее первичное знакомство с данными, не забывай про метод describe и используй его с  аргументом include=’all’\n"
   ]
  },
  {
   "cell_type": "markdown",
   "id": "7c31fcc2",
   "metadata": {},
   "source": [
    "<div class=\"alert alert-info\"> <b>Комментарий студента:</b> Спасибо! </div>"
   ]
  },
  {
   "cell_type": "markdown",
   "id": "29f140fd",
   "metadata": {},
   "source": [
    "## 2 Предобработка данных\n",
    "### 2.1 Явные дубликаты отсутствуют"
   ]
  },
  {
   "cell_type": "markdown",
   "id": "622f29d1",
   "metadata": {},
   "source": [
    "### 2.2 Изучение пропусков в поле **Balance**"
   ]
  },
  {
   "cell_type": "code",
   "execution_count": 4,
   "id": "1f89b68f",
   "metadata": {},
   "outputs": [
    {
     "data": {
      "text/html": [
       "<div>\n",
       "<style scoped>\n",
       "    .dataframe tbody tr th:only-of-type {\n",
       "        vertical-align: middle;\n",
       "    }\n",
       "\n",
       "    .dataframe tbody tr th {\n",
       "        vertical-align: top;\n",
       "    }\n",
       "\n",
       "    .dataframe thead th {\n",
       "        text-align: right;\n",
       "    }\n",
       "</style>\n",
       "<table border=\"1\" class=\"dataframe\">\n",
       "  <thead>\n",
       "    <tr style=\"text-align: right;\">\n",
       "      <th></th>\n",
       "      <th>userid</th>\n",
       "      <th>score</th>\n",
       "      <th>Age</th>\n",
       "      <th>Objects</th>\n",
       "      <th>Balance</th>\n",
       "      <th>Products</th>\n",
       "      <th>CreditCard</th>\n",
       "      <th>Loyalty</th>\n",
       "      <th>estimated_salary</th>\n",
       "      <th>Churn</th>\n",
       "    </tr>\n",
       "    <tr>\n",
       "      <th>nanbalance</th>\n",
       "      <th></th>\n",
       "      <th></th>\n",
       "      <th></th>\n",
       "      <th></th>\n",
       "      <th></th>\n",
       "      <th></th>\n",
       "      <th></th>\n",
       "      <th></th>\n",
       "      <th></th>\n",
       "      <th></th>\n",
       "    </tr>\n",
       "  </thead>\n",
       "  <tbody>\n",
       "    <tr>\n",
       "      <th>False</th>\n",
       "      <td>1.573310e+07</td>\n",
       "      <td>651.138493</td>\n",
       "      <td>39.197713</td>\n",
       "      <td>4.979633</td>\n",
       "      <td>119827.493793</td>\n",
       "      <td>1.386025</td>\n",
       "      <td>0.699201</td>\n",
       "      <td>0.513552</td>\n",
       "      <td>100717.352956</td>\n",
       "      <td>0.240796</td>\n",
       "    </tr>\n",
       "    <tr>\n",
       "      <th>True</th>\n",
       "      <td>1.573469e+07</td>\n",
       "      <td>649.452861</td>\n",
       "      <td>38.434891</td>\n",
       "      <td>5.071330</td>\n",
       "      <td>NaN</td>\n",
       "      <td>1.784628</td>\n",
       "      <td>0.716616</td>\n",
       "      <td>0.517832</td>\n",
       "      <td>98983.559549</td>\n",
       "      <td>0.138236</td>\n",
       "    </tr>\n",
       "  </tbody>\n",
       "</table>\n",
       "</div>"
      ],
      "text/plain": [
       "                  userid       score        Age   Objects        Balance  \\\n",
       "nanbalance                                                                 \n",
       "False       1.573310e+07  651.138493  39.197713  4.979633  119827.493793   \n",
       "True        1.573469e+07  649.452861  38.434891  5.071330            NaN   \n",
       "\n",
       "            Products  CreditCard   Loyalty  estimated_salary     Churn  \n",
       "nanbalance                                                              \n",
       "False       1.386025    0.699201  0.513552     100717.352956  0.240796  \n",
       "True        1.784628    0.716616  0.517832      98983.559549  0.138236  "
      ]
     },
     "metadata": {},
     "output_type": "display_data"
    }
   ],
   "source": [
    "df_nan = df.copy()\n",
    "df_nan['nanbalance'] = df_nan['Balance'].isna()\n",
    "display(df_nan.groupby(['nanbalance']).mean())"
   ]
  },
  {
   "cell_type": "markdown",
   "id": "0ee0f573",
   "metadata": {},
   "source": [
    "Средние значения признаков у клиентов с балансом и без схожи, за исключением числа продуктов.\n",
    "У клиентов без баланса в среднем число продуктов 1.78, а у клиентов с балансом 1.38. "
   ]
  },
  {
   "cell_type": "code",
   "execution_count": 5,
   "id": "10463882",
   "metadata": {},
   "outputs": [
    {
     "data": {
      "text/plain": [
       "nanbalance  City          \n",
       "False       Ростов Великий    2509\n",
       "            Рыбинск           1278\n",
       "            Ярославль         2596\n",
       "True        Рыбинск           1199\n",
       "            Ярославль         2418\n",
       "Name: userid, dtype: int64"
      ]
     },
     "metadata": {},
     "output_type": "display_data"
    }
   ],
   "source": [
    "display(df_nan.groupby(['nanbalance', 'City'])['userid'].count())"
   ]
  },
  {
   "cell_type": "markdown",
   "id": "308bff1f",
   "metadata": {},
   "source": [
    "В Ростове Великом нет клиентов без Баланса.\n",
    "Людей с балансом и без в Рыбинске и Ярославле примерно пополам."
   ]
  },
  {
   "cell_type": "code",
   "execution_count": 6,
   "id": "d9d4a34f",
   "metadata": {},
   "outputs": [
    {
     "data": {
      "text/plain": [
       "nanbalance  City          \n",
       "False       Ростов Великий    1.519729\n",
       "            Рыбинск           1.302817\n",
       "            Ярославль         1.297766\n",
       "True        Рыбинск           1.791493\n",
       "            Ярославль         1.781224\n",
       "Name: Products, dtype: float64"
      ]
     },
     "execution_count": 6,
     "metadata": {},
     "output_type": "execute_result"
    }
   ],
   "source": [
    "df_nan.groupby(['nanbalance', 'City'])['Products'].mean()"
   ]
  },
  {
   "cell_type": "markdown",
   "id": "503c1a95",
   "metadata": {},
   "source": [
    "В Рыбинске и Ярославле у людей без баланса близкие значения среднего числа продуктов."
   ]
  },
  {
   "cell_type": "markdown",
   "id": "acd915d1",
   "metadata": {},
   "source": [
    "<div class='alert alert-warning'> ⚠️\n",
    "Исследование прпоусков выполнено корректно, но не хватает исследования в разрезе других признаков"
   ]
  },
  {
   "cell_type": "markdown",
   "id": "b4a065b5",
   "metadata": {},
   "source": [
    "### 2.3 Удаление записей с аномальными значениями\n"
   ]
  },
  {
   "cell_type": "code",
   "execution_count": 7,
   "id": "6d6df8c9",
   "metadata": {
    "scrolled": true
   },
   "outputs": [
    {
     "data": {
      "text/plain": [
       "count    10000.000000\n",
       "mean        38.921800\n",
       "std         10.487806\n",
       "min         18.000000\n",
       "25%         32.000000\n",
       "50%         37.000000\n",
       "75%         44.000000\n",
       "max         92.000000\n",
       "Name: Age, dtype: float64"
      ]
     },
     "metadata": {},
     "output_type": "display_data"
    },
    {
     "data": {
      "image/png": "[encoded data removed]",
      "text/plain": [
       "<Figure size 432x288 with 1 Axes>"
      ]
     },
     "metadata": {
      "needs_background": "light"
     },
     "output_type": "display_data"
    }
   ],
   "source": [
    "display(df['Age'].describe())\n",
    "sn.boxplot(df['Age'])\n",
    "plt.show()\n"
   ]
  },
  {
   "cell_type": "markdown",
   "id": "9176ea9e",
   "metadata": {},
   "source": [
    "Минимальный возраст клиентов - 18 лет, а максимальный - 92 года.\n",
    "\n",
    "В основном клиенты находятся в возрасте от 32 до 44 лет.\n",
    "\n",
    "Число клиентов с возрастом больше 61 года (411) статистически не значимо. Считаем записи о них выбросами и удаляем."
   ]
  },
  {
   "cell_type": "code",
   "execution_count": 8,
   "id": "278f85c3",
   "metadata": {},
   "outputs": [],
   "source": [
    "df = df[df['Age'] < 62]"
   ]
  },
  {
   "cell_type": "markdown",
   "id": "a69469de",
   "metadata": {},
   "source": [
    "### 2.4 Преобразование категориальных переменных"
   ]
  },
  {
   "cell_type": "code",
   "execution_count": 9,
   "id": "e7eabe6d",
   "metadata": {},
   "outputs": [
    {
     "data": {
      "text/html": [
       "<div>\n",
       "<style scoped>\n",
       "    .dataframe tbody tr th:only-of-type {\n",
       "        vertical-align: middle;\n",
       "    }\n",
       "\n",
       "    .dataframe tbody tr th {\n",
       "        vertical-align: top;\n",
       "    }\n",
       "\n",
       "    .dataframe thead th {\n",
       "        text-align: right;\n",
       "    }\n",
       "</style>\n",
       "<table border=\"1\" class=\"dataframe\">\n",
       "  <thead>\n",
       "    <tr style=\"text-align: right;\">\n",
       "      <th></th>\n",
       "      <th>userid</th>\n",
       "      <th>score</th>\n",
       "      <th>Age</th>\n",
       "      <th>Objects</th>\n",
       "      <th>Balance</th>\n",
       "      <th>Products</th>\n",
       "      <th>CreditCard</th>\n",
       "      <th>Loyalty</th>\n",
       "      <th>estimated_salary</th>\n",
       "      <th>Churn</th>\n",
       "      <th>City_Ростов Великий</th>\n",
       "      <th>City_Рыбинск</th>\n",
       "      <th>City_Ярославль</th>\n",
       "      <th>Gender_Ж</th>\n",
       "      <th>Gender_М</th>\n",
       "    </tr>\n",
       "  </thead>\n",
       "  <tbody>\n",
       "    <tr>\n",
       "      <th>0</th>\n",
       "      <td>15677338</td>\n",
       "      <td>619</td>\n",
       "      <td>42</td>\n",
       "      <td>2</td>\n",
       "      <td>NaN</td>\n",
       "      <td>1</td>\n",
       "      <td>1</td>\n",
       "      <td>1</td>\n",
       "      <td>101348.88</td>\n",
       "      <td>1</td>\n",
       "      <td>0</td>\n",
       "      <td>0</td>\n",
       "      <td>1</td>\n",
       "      <td>1</td>\n",
       "      <td>0</td>\n",
       "    </tr>\n",
       "    <tr>\n",
       "      <th>1</th>\n",
       "      <td>15690047</td>\n",
       "      <td>608</td>\n",
       "      <td>41</td>\n",
       "      <td>1</td>\n",
       "      <td>83807.86</td>\n",
       "      <td>1</td>\n",
       "      <td>0</td>\n",
       "      <td>1</td>\n",
       "      <td>112542.58</td>\n",
       "      <td>0</td>\n",
       "      <td>0</td>\n",
       "      <td>1</td>\n",
       "      <td>0</td>\n",
       "      <td>1</td>\n",
       "      <td>0</td>\n",
       "    </tr>\n",
       "    <tr>\n",
       "      <th>2</th>\n",
       "      <td>15662040</td>\n",
       "      <td>502</td>\n",
       "      <td>42</td>\n",
       "      <td>8</td>\n",
       "      <td>159660.80</td>\n",
       "      <td>3</td>\n",
       "      <td>1</td>\n",
       "      <td>0</td>\n",
       "      <td>113931.57</td>\n",
       "      <td>1</td>\n",
       "      <td>0</td>\n",
       "      <td>0</td>\n",
       "      <td>1</td>\n",
       "      <td>1</td>\n",
       "      <td>0</td>\n",
       "    </tr>\n",
       "    <tr>\n",
       "      <th>3</th>\n",
       "      <td>15744090</td>\n",
       "      <td>699</td>\n",
       "      <td>39</td>\n",
       "      <td>1</td>\n",
       "      <td>NaN</td>\n",
       "      <td>2</td>\n",
       "      <td>0</td>\n",
       "      <td>0</td>\n",
       "      <td>93826.63</td>\n",
       "      <td>0</td>\n",
       "      <td>0</td>\n",
       "      <td>0</td>\n",
       "      <td>1</td>\n",
       "      <td>1</td>\n",
       "      <td>0</td>\n",
       "    </tr>\n",
       "    <tr>\n",
       "      <th>4</th>\n",
       "      <td>15780624</td>\n",
       "      <td>850</td>\n",
       "      <td>43</td>\n",
       "      <td>2</td>\n",
       "      <td>125510.82</td>\n",
       "      <td>1</td>\n",
       "      <td>1</td>\n",
       "      <td>1</td>\n",
       "      <td>79084.10</td>\n",
       "      <td>0</td>\n",
       "      <td>0</td>\n",
       "      <td>1</td>\n",
       "      <td>0</td>\n",
       "      <td>1</td>\n",
       "      <td>0</td>\n",
       "    </tr>\n",
       "    <tr>\n",
       "      <th>...</th>\n",
       "      <td>...</td>\n",
       "      <td>...</td>\n",
       "      <td>...</td>\n",
       "      <td>...</td>\n",
       "      <td>...</td>\n",
       "      <td>...</td>\n",
       "      <td>...</td>\n",
       "      <td>...</td>\n",
       "      <td>...</td>\n",
       "      <td>...</td>\n",
       "      <td>...</td>\n",
       "      <td>...</td>\n",
       "      <td>...</td>\n",
       "      <td>...</td>\n",
       "      <td>...</td>\n",
       "    </tr>\n",
       "    <tr>\n",
       "      <th>9995</th>\n",
       "      <td>15648965</td>\n",
       "      <td>771</td>\n",
       "      <td>39</td>\n",
       "      <td>5</td>\n",
       "      <td>NaN</td>\n",
       "      <td>2</td>\n",
       "      <td>1</td>\n",
       "      <td>0</td>\n",
       "      <td>96270.64</td>\n",
       "      <td>0</td>\n",
       "      <td>0</td>\n",
       "      <td>0</td>\n",
       "      <td>1</td>\n",
       "      <td>0</td>\n",
       "      <td>1</td>\n",
       "    </tr>\n",
       "    <tr>\n",
       "      <th>9996</th>\n",
       "      <td>15612628</td>\n",
       "      <td>516</td>\n",
       "      <td>35</td>\n",
       "      <td>10</td>\n",
       "      <td>57369.61</td>\n",
       "      <td>1</td>\n",
       "      <td>1</td>\n",
       "      <td>1</td>\n",
       "      <td>101699.77</td>\n",
       "      <td>0</td>\n",
       "      <td>0</td>\n",
       "      <td>0</td>\n",
       "      <td>1</td>\n",
       "      <td>0</td>\n",
       "      <td>1</td>\n",
       "    </tr>\n",
       "    <tr>\n",
       "      <th>9997</th>\n",
       "      <td>15627268</td>\n",
       "      <td>709</td>\n",
       "      <td>36</td>\n",
       "      <td>7</td>\n",
       "      <td>NaN</td>\n",
       "      <td>1</td>\n",
       "      <td>0</td>\n",
       "      <td>1</td>\n",
       "      <td>42085.58</td>\n",
       "      <td>1</td>\n",
       "      <td>0</td>\n",
       "      <td>0</td>\n",
       "      <td>1</td>\n",
       "      <td>1</td>\n",
       "      <td>0</td>\n",
       "    </tr>\n",
       "    <tr>\n",
       "      <th>9998</th>\n",
       "      <td>15725091</td>\n",
       "      <td>772</td>\n",
       "      <td>42</td>\n",
       "      <td>3</td>\n",
       "      <td>75075.31</td>\n",
       "      <td>2</td>\n",
       "      <td>1</td>\n",
       "      <td>0</td>\n",
       "      <td>92888.52</td>\n",
       "      <td>1</td>\n",
       "      <td>1</td>\n",
       "      <td>0</td>\n",
       "      <td>0</td>\n",
       "      <td>0</td>\n",
       "      <td>1</td>\n",
       "    </tr>\n",
       "    <tr>\n",
       "      <th>9999</th>\n",
       "      <td>15671055</td>\n",
       "      <td>792</td>\n",
       "      <td>28</td>\n",
       "      <td>4</td>\n",
       "      <td>130142.79</td>\n",
       "      <td>1</td>\n",
       "      <td>1</td>\n",
       "      <td>0</td>\n",
       "      <td>38190.78</td>\n",
       "      <td>0</td>\n",
       "      <td>0</td>\n",
       "      <td>0</td>\n",
       "      <td>1</td>\n",
       "      <td>1</td>\n",
       "      <td>0</td>\n",
       "    </tr>\n",
       "  </tbody>\n",
       "</table>\n",
       "<p>9589 rows × 15 columns</p>\n",
       "</div>"
      ],
      "text/plain": [
       "        userid  score  Age  Objects    Balance  Products  CreditCard  Loyalty  \\\n",
       "0     15677338    619   42        2        NaN         1           1        1   \n",
       "1     15690047    608   41        1   83807.86         1           0        1   \n",
       "2     15662040    502   42        8  159660.80         3           1        0   \n",
       "3     15744090    699   39        1        NaN         2           0        0   \n",
       "4     15780624    850   43        2  125510.82         1           1        1   \n",
       "...        ...    ...  ...      ...        ...       ...         ...      ...   \n",
       "9995  15648965    771   39        5        NaN         2           1        0   \n",
       "9996  15612628    516   35       10   57369.61         1           1        1   \n",
       "9997  15627268    709   36        7        NaN         1           0        1   \n",
       "9998  15725091    772   42        3   75075.31         2           1        0   \n",
       "9999  15671055    792   28        4  130142.79         1           1        0   \n",
       "\n",
       "      estimated_salary  Churn  City_Ростов Великий  City_Рыбинск  \\\n",
       "0            101348.88      1                    0             0   \n",
       "1            112542.58      0                    0             1   \n",
       "2            113931.57      1                    0             0   \n",
       "3             93826.63      0                    0             0   \n",
       "4             79084.10      0                    0             1   \n",
       "...                ...    ...                  ...           ...   \n",
       "9995          96270.64      0                    0             0   \n",
       "9996         101699.77      0                    0             0   \n",
       "9997          42085.58      1                    0             0   \n",
       "9998          92888.52      1                    1             0   \n",
       "9999          38190.78      0                    0             0   \n",
       "\n",
       "      City_Ярославль  Gender_Ж  Gender_М  \n",
       "0                  1         1         0  \n",
       "1                  0         1         0  \n",
       "2                  1         1         0  \n",
       "3                  1         1         0  \n",
       "4                  0         1         0  \n",
       "...              ...       ...       ...  \n",
       "9995               1         0         1  \n",
       "9996               1         0         1  \n",
       "9997               1         1         0  \n",
       "9998               0         0         1  \n",
       "9999               1         1         0  \n",
       "\n",
       "[9589 rows x 15 columns]"
      ]
     },
     "metadata": {},
     "output_type": "display_data"
    }
   ],
   "source": [
    "df_cor = df.copy()\n",
    "df_cor = pd.get_dummies(df_cor)\n",
    "display(df_cor)"
   ]
  },
  {
   "cell_type": "markdown",
   "id": "6a5bddaa",
   "metadata": {},
   "source": [
    "<div class='alert alert-success'> 👍\n",
    "Хорошая предобработка, присутствует исследование пропусков и остальные не менее важные пункты. \n"
   ]
  },
  {
   "cell_type": "markdown",
   "id": "cda0e4a7",
   "metadata": {},
   "source": [
    "<div class=\"alert alert-info\"> <b>Комментарий студента:</b> Спасибо!</div>"
   ]
  },
  {
   "cell_type": "markdown",
   "id": "8087e9d5",
   "metadata": {},
   "source": [
    "## 3 Исследовательский анализ данных (EDA)\n",
    "Анализ с целью выявить дополнительные признаки (помимо числа продуктов и оттока) для сегментации и числа сегментов\n",
    "### 3.1 Построение матрицы корелляции"
   ]
  },
  {
   "cell_type": "code",
   "execution_count": 10,
   "id": "aa870758",
   "metadata": {
    "scrolled": true
   },
   "outputs": [
    {
     "data": {
      "text/html": [
       "<div>\n",
       "<style scoped>\n",
       "    .dataframe tbody tr th:only-of-type {\n",
       "        vertical-align: middle;\n",
       "    }\n",
       "\n",
       "    .dataframe tbody tr th {\n",
       "        vertical-align: top;\n",
       "    }\n",
       "\n",
       "    .dataframe thead th {\n",
       "        text-align: right;\n",
       "    }\n",
       "</style>\n",
       "<table border=\"1\" class=\"dataframe\">\n",
       "  <thead>\n",
       "    <tr style=\"text-align: right;\">\n",
       "      <th></th>\n",
       "      <th>userid</th>\n",
       "      <th>score</th>\n",
       "      <th>Age</th>\n",
       "      <th>Objects</th>\n",
       "      <th>Balance</th>\n",
       "      <th>Products</th>\n",
       "      <th>CreditCard</th>\n",
       "      <th>Loyalty</th>\n",
       "      <th>estimated_salary</th>\n",
       "      <th>Churn</th>\n",
       "      <th>City_Ростов Великий</th>\n",
       "      <th>City_Рыбинск</th>\n",
       "      <th>City_Ярославль</th>\n",
       "      <th>Gender_Ж</th>\n",
       "      <th>Gender_М</th>\n",
       "    </tr>\n",
       "  </thead>\n",
       "  <tbody>\n",
       "    <tr>\n",
       "      <th>userid</th>\n",
       "      <td>1.000000</td>\n",
       "      <td>0.005722</td>\n",
       "      <td>0.011219</td>\n",
       "      <td>-0.017892</td>\n",
       "      <td>-0.004591</td>\n",
       "      <td>0.010969</td>\n",
       "      <td>-0.016871</td>\n",
       "      <td>0.002378</td>\n",
       "      <td>0.015631</td>\n",
       "      <td>-0.006468</td>\n",
       "      <td>-0.000418</td>\n",
       "      <td>0.004954</td>\n",
       "      <td>-0.003912</td>\n",
       "      <td>0.002730</td>\n",
       "      <td>-0.002730</td>\n",
       "    </tr>\n",
       "    <tr>\n",
       "      <th>score</th>\n",
       "      <td>0.005722</td>\n",
       "      <td>1.000000</td>\n",
       "      <td>-0.016371</td>\n",
       "      <td>0.000157</td>\n",
       "      <td>-0.006558</td>\n",
       "      <td>0.011263</td>\n",
       "      <td>-0.003590</td>\n",
       "      <td>0.022291</td>\n",
       "      <td>-0.001282</td>\n",
       "      <td>-0.024859</td>\n",
       "      <td>0.007757</td>\n",
       "      <td>0.005122</td>\n",
       "      <td>-0.011150</td>\n",
       "      <td>0.003184</td>\n",
       "      <td>-0.003184</td>\n",
       "    </tr>\n",
       "    <tr>\n",
       "      <th>Age</th>\n",
       "      <td>0.011219</td>\n",
       "      <td>-0.016371</td>\n",
       "      <td>1.000000</td>\n",
       "      <td>-0.011999</td>\n",
       "      <td>-0.007075</td>\n",
       "      <td>-0.034596</td>\n",
       "      <td>-0.013050</td>\n",
       "      <td>0.012161</td>\n",
       "      <td>-0.003305</td>\n",
       "      <td>0.360604</td>\n",
       "      <td>0.063120</td>\n",
       "      <td>-0.004958</td>\n",
       "      <td>-0.050491</td>\n",
       "      <td>0.032111</td>\n",
       "      <td>-0.032111</td>\n",
       "    </tr>\n",
       "    <tr>\n",
       "      <th>Objects</th>\n",
       "      <td>-0.017892</td>\n",
       "      <td>0.000157</td>\n",
       "      <td>-0.011999</td>\n",
       "      <td>1.000000</td>\n",
       "      <td>0.006438</td>\n",
       "      <td>0.016259</td>\n",
       "      <td>0.021110</td>\n",
       "      <td>-0.027389</td>\n",
       "      <td>0.009343</td>\n",
       "      <td>-0.013846</td>\n",
       "      <td>-0.002638</td>\n",
       "      <td>0.004510</td>\n",
       "      <td>-0.001602</td>\n",
       "      <td>-0.015289</td>\n",
       "      <td>0.015289</td>\n",
       "    </tr>\n",
       "    <tr>\n",
       "      <th>Balance</th>\n",
       "      <td>-0.004591</td>\n",
       "      <td>-0.006558</td>\n",
       "      <td>-0.007075</td>\n",
       "      <td>0.006438</td>\n",
       "      <td>1.000000</td>\n",
       "      <td>-0.000825</td>\n",
       "      <td>0.007539</td>\n",
       "      <td>-0.021431</td>\n",
       "      <td>-0.009136</td>\n",
       "      <td>0.018492</td>\n",
       "      <td>-0.003002</td>\n",
       "      <td>-0.002775</td>\n",
       "      <td>0.005243</td>\n",
       "      <td>-0.030026</td>\n",
       "      <td>0.030026</td>\n",
       "    </tr>\n",
       "    <tr>\n",
       "      <th>Products</th>\n",
       "      <td>0.010969</td>\n",
       "      <td>0.011263</td>\n",
       "      <td>-0.034596</td>\n",
       "      <td>0.016259</td>\n",
       "      <td>-0.000825</td>\n",
       "      <td>1.000000</td>\n",
       "      <td>0.001861</td>\n",
       "      <td>0.010623</td>\n",
       "      <td>0.010874</td>\n",
       "      <td>-0.049786</td>\n",
       "      <td>-0.009529</td>\n",
       "      <td>0.011940</td>\n",
       "      <td>-0.002033</td>\n",
       "      <td>0.022659</td>\n",
       "      <td>-0.022659</td>\n",
       "    </tr>\n",
       "    <tr>\n",
       "      <th>CreditCard</th>\n",
       "      <td>-0.016871</td>\n",
       "      <td>-0.003590</td>\n",
       "      <td>-0.013050</td>\n",
       "      <td>0.021110</td>\n",
       "      <td>0.007539</td>\n",
       "      <td>0.001861</td>\n",
       "      <td>1.000000</td>\n",
       "      <td>-0.011658</td>\n",
       "      <td>-0.011384</td>\n",
       "      <td>-0.006483</td>\n",
       "      <td>0.011234</td>\n",
       "      <td>-0.016854</td>\n",
       "      <td>0.004793</td>\n",
       "      <td>-0.005693</td>\n",
       "      <td>0.005693</td>\n",
       "    </tr>\n",
       "    <tr>\n",
       "      <th>Loyalty</th>\n",
       "      <td>0.002378</td>\n",
       "      <td>0.022291</td>\n",
       "      <td>0.012161</td>\n",
       "      <td>-0.027389</td>\n",
       "      <td>-0.021431</td>\n",
       "      <td>0.010623</td>\n",
       "      <td>-0.011658</td>\n",
       "      <td>1.000000</td>\n",
       "      <td>-0.008943</td>\n",
       "      <td>-0.142517</td>\n",
       "      <td>-0.016180</td>\n",
       "      <td>0.014957</td>\n",
       "      <td>0.001135</td>\n",
       "      <td>-0.022122</td>\n",
       "      <td>0.022122</td>\n",
       "    </tr>\n",
       "    <tr>\n",
       "      <th>estimated_salary</th>\n",
       "      <td>0.015631</td>\n",
       "      <td>-0.001282</td>\n",
       "      <td>-0.003305</td>\n",
       "      <td>0.009343</td>\n",
       "      <td>-0.009136</td>\n",
       "      <td>0.010874</td>\n",
       "      <td>-0.011384</td>\n",
       "      <td>-0.008943</td>\n",
       "      <td>1.000000</td>\n",
       "      <td>0.012253</td>\n",
       "      <td>0.011065</td>\n",
       "      <td>-0.009695</td>\n",
       "      <td>-0.001236</td>\n",
       "      <td>0.007018</td>\n",
       "      <td>-0.007018</td>\n",
       "    </tr>\n",
       "    <tr>\n",
       "      <th>Churn</th>\n",
       "      <td>-0.006468</td>\n",
       "      <td>-0.024859</td>\n",
       "      <td>0.360604</td>\n",
       "      <td>-0.013846</td>\n",
       "      <td>0.018492</td>\n",
       "      <td>-0.049786</td>\n",
       "      <td>-0.006483</td>\n",
       "      <td>-0.142517</td>\n",
       "      <td>0.012253</td>\n",
       "      <td>1.000000</td>\n",
       "      <td>0.171911</td>\n",
       "      <td>-0.053066</td>\n",
       "      <td>-0.103382</td>\n",
       "      <td>0.106285</td>\n",
       "      <td>-0.106285</td>\n",
       "    </tr>\n",
       "    <tr>\n",
       "      <th>City_Ростов Великий</th>\n",
       "      <td>-0.000418</td>\n",
       "      <td>0.007757</td>\n",
       "      <td>0.063120</td>\n",
       "      <td>-0.002638</td>\n",
       "      <td>-0.003002</td>\n",
       "      <td>-0.009529</td>\n",
       "      <td>0.011234</td>\n",
       "      <td>-0.016180</td>\n",
       "      <td>0.011065</td>\n",
       "      <td>0.171911</td>\n",
       "      <td>1.000000</td>\n",
       "      <td>-0.332072</td>\n",
       "      <td>-0.581192</td>\n",
       "      <td>0.026317</td>\n",
       "      <td>-0.026317</td>\n",
       "    </tr>\n",
       "    <tr>\n",
       "      <th>City_Рыбинск</th>\n",
       "      <td>0.004954</td>\n",
       "      <td>0.005122</td>\n",
       "      <td>-0.004958</td>\n",
       "      <td>0.004510</td>\n",
       "      <td>-0.002775</td>\n",
       "      <td>0.011940</td>\n",
       "      <td>-0.016854</td>\n",
       "      <td>0.014957</td>\n",
       "      <td>-0.009695</td>\n",
       "      <td>-0.053066</td>\n",
       "      <td>-0.332072</td>\n",
       "      <td>1.000000</td>\n",
       "      <td>-0.574591</td>\n",
       "      <td>-0.015480</td>\n",
       "      <td>0.015480</td>\n",
       "    </tr>\n",
       "    <tr>\n",
       "      <th>City_Ярославль</th>\n",
       "      <td>-0.003912</td>\n",
       "      <td>-0.011150</td>\n",
       "      <td>-0.050491</td>\n",
       "      <td>-0.001602</td>\n",
       "      <td>0.005243</td>\n",
       "      <td>-0.002033</td>\n",
       "      <td>0.004793</td>\n",
       "      <td>0.001135</td>\n",
       "      <td>-0.001236</td>\n",
       "      <td>-0.103382</td>\n",
       "      <td>-0.581192</td>\n",
       "      <td>-0.574591</td>\n",
       "      <td>1.000000</td>\n",
       "      <td>-0.009480</td>\n",
       "      <td>0.009480</td>\n",
       "    </tr>\n",
       "    <tr>\n",
       "      <th>Gender_Ж</th>\n",
       "      <td>0.002730</td>\n",
       "      <td>0.003184</td>\n",
       "      <td>0.032111</td>\n",
       "      <td>-0.015289</td>\n",
       "      <td>-0.030026</td>\n",
       "      <td>0.022659</td>\n",
       "      <td>-0.005693</td>\n",
       "      <td>-0.022122</td>\n",
       "      <td>0.007018</td>\n",
       "      <td>0.106285</td>\n",
       "      <td>0.026317</td>\n",
       "      <td>-0.015480</td>\n",
       "      <td>-0.009480</td>\n",
       "      <td>1.000000</td>\n",
       "      <td>-1.000000</td>\n",
       "    </tr>\n",
       "    <tr>\n",
       "      <th>Gender_М</th>\n",
       "      <td>-0.002730</td>\n",
       "      <td>-0.003184</td>\n",
       "      <td>-0.032111</td>\n",
       "      <td>0.015289</td>\n",
       "      <td>0.030026</td>\n",
       "      <td>-0.022659</td>\n",
       "      <td>0.005693</td>\n",
       "      <td>0.022122</td>\n",
       "      <td>-0.007018</td>\n",
       "      <td>-0.106285</td>\n",
       "      <td>-0.026317</td>\n",
       "      <td>0.015480</td>\n",
       "      <td>0.009480</td>\n",
       "      <td>-1.000000</td>\n",
       "      <td>1.000000</td>\n",
       "    </tr>\n",
       "  </tbody>\n",
       "</table>\n",
       "</div>"
      ],
      "text/plain": [
       "                       userid     score       Age   Objects   Balance  \\\n",
       "userid               1.000000  0.005722  0.011219 -0.017892 -0.004591   \n",
       "score                0.005722  1.000000 -0.016371  0.000157 -0.006558   \n",
       "Age                  0.011219 -0.016371  1.000000 -0.011999 -0.007075   \n",
       "Objects             -0.017892  0.000157 -0.011999  1.000000  0.006438   \n",
       "Balance             -0.004591 -0.006558 -0.007075  0.006438  1.000000   \n",
       "Products             0.010969  0.011263 -0.034596  0.016259 -0.000825   \n",
       "CreditCard          -0.016871 -0.003590 -0.013050  0.021110  0.007539   \n",
       "Loyalty              0.002378  0.022291  0.012161 -0.027389 -0.021431   \n",
       "estimated_salary     0.015631 -0.001282 -0.003305  0.009343 -0.009136   \n",
       "Churn               -0.006468 -0.024859  0.360604 -0.013846  0.018492   \n",
       "City_Ростов Великий -0.000418  0.007757  0.063120 -0.002638 -0.003002   \n",
       "City_Рыбинск         0.004954  0.005122 -0.004958  0.004510 -0.002775   \n",
       "City_Ярославль      -0.003912 -0.011150 -0.050491 -0.001602  0.005243   \n",
       "Gender_Ж             0.002730  0.003184  0.032111 -0.015289 -0.030026   \n",
       "Gender_М            -0.002730 -0.003184 -0.032111  0.015289  0.030026   \n",
       "\n",
       "                     Products  CreditCard   Loyalty  estimated_salary  \\\n",
       "userid               0.010969   -0.016871  0.002378          0.015631   \n",
       "score                0.011263   -0.003590  0.022291         -0.001282   \n",
       "Age                 -0.034596   -0.013050  0.012161         -0.003305   \n",
       "Objects              0.016259    0.021110 -0.027389          0.009343   \n",
       "Balance             -0.000825    0.007539 -0.021431         -0.009136   \n",
       "Products             1.000000    0.001861  0.010623          0.010874   \n",
       "CreditCard           0.001861    1.000000 -0.011658         -0.011384   \n",
       "Loyalty              0.010623   -0.011658  1.000000         -0.008943   \n",
       "estimated_salary     0.010874   -0.011384 -0.008943          1.000000   \n",
       "Churn               -0.049786   -0.006483 -0.142517          0.012253   \n",
       "City_Ростов Великий -0.009529    0.011234 -0.016180          0.011065   \n",
       "City_Рыбинск         0.011940   -0.016854  0.014957         -0.009695   \n",
       "City_Ярославль      -0.002033    0.004793  0.001135         -0.001236   \n",
       "Gender_Ж             0.022659   -0.005693 -0.022122          0.007018   \n",
       "Gender_М            -0.022659    0.005693  0.022122         -0.007018   \n",
       "\n",
       "                        Churn  City_Ростов Великий  City_Рыбинск  \\\n",
       "userid              -0.006468            -0.000418      0.004954   \n",
       "score               -0.024859             0.007757      0.005122   \n",
       "Age                  0.360604             0.063120     -0.004958   \n",
       "Objects             -0.013846            -0.002638      0.004510   \n",
       "Balance              0.018492            -0.003002     -0.002775   \n",
       "Products            -0.049786            -0.009529      0.011940   \n",
       "CreditCard          -0.006483             0.011234     -0.016854   \n",
       "Loyalty             -0.142517            -0.016180      0.014957   \n",
       "estimated_salary     0.012253             0.011065     -0.009695   \n",
       "Churn                1.000000             0.171911     -0.053066   \n",
       "City_Ростов Великий  0.171911             1.000000     -0.332072   \n",
       "City_Рыбинск        -0.053066            -0.332072      1.000000   \n",
       "City_Ярославль      -0.103382            -0.581192     -0.574591   \n",
       "Gender_Ж             0.106285             0.026317     -0.015480   \n",
       "Gender_М            -0.106285            -0.026317      0.015480   \n",
       "\n",
       "                     City_Ярославль  Gender_Ж  Gender_М  \n",
       "userid                    -0.003912  0.002730 -0.002730  \n",
       "score                     -0.011150  0.003184 -0.003184  \n",
       "Age                       -0.050491  0.032111 -0.032111  \n",
       "Objects                   -0.001602 -0.015289  0.015289  \n",
       "Balance                    0.005243 -0.030026  0.030026  \n",
       "Products                  -0.002033  0.022659 -0.022659  \n",
       "CreditCard                 0.004793 -0.005693  0.005693  \n",
       "Loyalty                    0.001135 -0.022122  0.022122  \n",
       "estimated_salary          -0.001236  0.007018 -0.007018  \n",
       "Churn                     -0.103382  0.106285 -0.106285  \n",
       "City_Ростов Великий       -0.581192  0.026317 -0.026317  \n",
       "City_Рыбинск              -0.574591 -0.015480  0.015480  \n",
       "City_Ярославль             1.000000 -0.009480  0.009480  \n",
       "Gender_Ж                  -0.009480  1.000000 -1.000000  \n",
       "Gender_М                   0.009480 -1.000000  1.000000  "
      ]
     },
     "execution_count": 10,
     "metadata": {},
     "output_type": "execute_result"
    }
   ],
   "source": [
    "df_cor.corr()"
   ]
  },
  {
   "cell_type": "code",
   "execution_count": 11,
   "id": "a90bfe68",
   "metadata": {
    "scrolled": true
   },
   "outputs": [
    {
     "data": {
      "image/png": "[encoded data removed]",
      "text/plain": [
       "<Figure size 720x360 with 2 Axes>"
      ]
     },
     "metadata": {
      "needs_background": "light"
     },
     "output_type": "display_data"
    }
   ],
   "source": [
    "#нарисуем тепловую карту с подписями для матрицы корреляций\n",
    "fig, ax = plt.subplots(figsize=(10, 5))\n",
    "sn.heatmap(df_cor.corr(), annot=True, fmt=\".2f\") #ваш код здесь\n",
    "plt.title('Матрица корреляции признаков клиентов')\n",
    "plt.show()\n"
   ]
  },
  {
   "cell_type": "markdown",
   "id": "0b0417e5",
   "metadata": {},
   "source": [
    "<div class='alert alert-success'> 👍\t\n",
    "Круто что владеешь такой мощной техникой визуализации как тепловая карта. На ней прекрасно видно что особых корреляций между признаками нет. В такой ситуации стоит подумать о том, что возможно признаки имеют нелинейные связи. Для выявления таких нелинейных взаимосвязей я рекомендую дополнительно посмотреть на корреляцию Спирмена, а в идеале познакомиться с очень продвинутым коэффициентом корреляции Phik. С его помощью можно получать адекватные значения корреляции для данных любой природы. https://phik.readthedocs.io/en/latest/introduction.html\n"
   ]
  },
  {
   "cell_type": "markdown",
   "id": "2e6ebe5b",
   "metadata": {},
   "source": [
    "<div class=\"alert alert-info\"> <b>Комментарий студента:</b> Спасибо! Обязательно почитаю.</div>"
   ]
  },
  {
   "cell_type": "markdown",
   "id": "9648b81e",
   "metadata": {},
   "source": [
    "<div class='alert alert-warning'> ⚠️\n",
    "На мой взгляд тут не хватает исследования зависимостей по городам, для этого тебе прежде всего необходимо закодировать данный признак.\n",
    " С one-hot кодировкой могут получаться правильные значения корреляции, чего не скажешь о порядковой кодировке. При ordinal кодировке значения корреляции будут получаться разными при выборе другого порядка кодирования.\n",
    "    \n",
    "Поменяй размер, сделай её более квадратной.\n"
   ]
  },
  {
   "cell_type": "markdown",
   "id": "afe5e4e8",
   "metadata": {},
   "source": [
    "<div class=\"alert alert-info\"> <b>Комментарий студента:</b> Спасибо! Применил get_dummies в пункте 2.4. Сделал матрицу поквадратнее.</div>"
   ]
  },
  {
   "cell_type": "markdown",
   "id": "834346e2",
   "metadata": {},
   "source": [
    "Видно, что **Сhurn** сильно корелирует с **возрастом** клиентов. Коэффициент кореляции составляет 0,36.\n",
    "Так же заметна корреляция с **городом(Ростов Великий), лояльностью и полом клиента**.\n",
    "Удалим остальные признаки."
   ]
  },
  {
   "cell_type": "code",
   "execution_count": 12,
   "id": "3bb2bb3f",
   "metadata": {},
   "outputs": [
    {
     "data": {
      "text/html": [
       "<div>\n",
       "<style scoped>\n",
       "    .dataframe tbody tr th:only-of-type {\n",
       "        vertical-align: middle;\n",
       "    }\n",
       "\n",
       "    .dataframe tbody tr th {\n",
       "        vertical-align: top;\n",
       "    }\n",
       "\n",
       "    .dataframe thead th {\n",
       "        text-align: right;\n",
       "    }\n",
       "</style>\n",
       "<table border=\"1\" class=\"dataframe\">\n",
       "  <thead>\n",
       "    <tr style=\"text-align: right;\">\n",
       "      <th></th>\n",
       "      <th>City</th>\n",
       "      <th>Gender</th>\n",
       "      <th>Age</th>\n",
       "      <th>Products</th>\n",
       "      <th>Loyalty</th>\n",
       "      <th>Churn</th>\n",
       "    </tr>\n",
       "  </thead>\n",
       "  <tbody>\n",
       "    <tr>\n",
       "      <th>0</th>\n",
       "      <td>Ярославль</td>\n",
       "      <td>Ж</td>\n",
       "      <td>42</td>\n",
       "      <td>1</td>\n",
       "      <td>1</td>\n",
       "      <td>1</td>\n",
       "    </tr>\n",
       "    <tr>\n",
       "      <th>1</th>\n",
       "      <td>Рыбинск</td>\n",
       "      <td>Ж</td>\n",
       "      <td>41</td>\n",
       "      <td>1</td>\n",
       "      <td>1</td>\n",
       "      <td>0</td>\n",
       "    </tr>\n",
       "    <tr>\n",
       "      <th>2</th>\n",
       "      <td>Ярославль</td>\n",
       "      <td>Ж</td>\n",
       "      <td>42</td>\n",
       "      <td>3</td>\n",
       "      <td>0</td>\n",
       "      <td>1</td>\n",
       "    </tr>\n",
       "    <tr>\n",
       "      <th>3</th>\n",
       "      <td>Ярославль</td>\n",
       "      <td>Ж</td>\n",
       "      <td>39</td>\n",
       "      <td>2</td>\n",
       "      <td>0</td>\n",
       "      <td>0</td>\n",
       "    </tr>\n",
       "    <tr>\n",
       "      <th>4</th>\n",
       "      <td>Рыбинск</td>\n",
       "      <td>Ж</td>\n",
       "      <td>43</td>\n",
       "      <td>1</td>\n",
       "      <td>1</td>\n",
       "      <td>0</td>\n",
       "    </tr>\n",
       "    <tr>\n",
       "      <th>...</th>\n",
       "      <td>...</td>\n",
       "      <td>...</td>\n",
       "      <td>...</td>\n",
       "      <td>...</td>\n",
       "      <td>...</td>\n",
       "      <td>...</td>\n",
       "    </tr>\n",
       "    <tr>\n",
       "      <th>9995</th>\n",
       "      <td>Ярославль</td>\n",
       "      <td>М</td>\n",
       "      <td>39</td>\n",
       "      <td>2</td>\n",
       "      <td>0</td>\n",
       "      <td>0</td>\n",
       "    </tr>\n",
       "    <tr>\n",
       "      <th>9996</th>\n",
       "      <td>Ярославль</td>\n",
       "      <td>М</td>\n",
       "      <td>35</td>\n",
       "      <td>1</td>\n",
       "      <td>1</td>\n",
       "      <td>0</td>\n",
       "    </tr>\n",
       "    <tr>\n",
       "      <th>9997</th>\n",
       "      <td>Ярославль</td>\n",
       "      <td>Ж</td>\n",
       "      <td>36</td>\n",
       "      <td>1</td>\n",
       "      <td>1</td>\n",
       "      <td>1</td>\n",
       "    </tr>\n",
       "    <tr>\n",
       "      <th>9998</th>\n",
       "      <td>Ростов Великий</td>\n",
       "      <td>М</td>\n",
       "      <td>42</td>\n",
       "      <td>2</td>\n",
       "      <td>0</td>\n",
       "      <td>1</td>\n",
       "    </tr>\n",
       "    <tr>\n",
       "      <th>9999</th>\n",
       "      <td>Ярославль</td>\n",
       "      <td>Ж</td>\n",
       "      <td>28</td>\n",
       "      <td>1</td>\n",
       "      <td>0</td>\n",
       "      <td>0</td>\n",
       "    </tr>\n",
       "  </tbody>\n",
       "</table>\n",
       "<p>9589 rows × 6 columns</p>\n",
       "</div>"
      ],
      "text/plain": [
       "                City Gender  Age  Products  Loyalty  Churn\n",
       "0          Ярославль      Ж   42         1        1      1\n",
       "1            Рыбинск      Ж   41         1        1      0\n",
       "2          Ярославль      Ж   42         3        0      1\n",
       "3          Ярославль      Ж   39         2        0      0\n",
       "4            Рыбинск      Ж   43         1        1      0\n",
       "...              ...    ...  ...       ...      ...    ...\n",
       "9995       Ярославль      М   39         2        0      0\n",
       "9996       Ярославль      М   35         1        1      0\n",
       "9997       Ярославль      Ж   36         1        1      1\n",
       "9998  Ростов Великий      М   42         2        0      1\n",
       "9999       Ярославль      Ж   28         1        0      0\n",
       "\n",
       "[9589 rows x 6 columns]"
      ]
     },
     "metadata": {},
     "output_type": "display_data"
    }
   ],
   "source": [
    "df_pr = df.drop(columns = ['userid','score','Objects','Balance','CreditCard','estimated_salary'], axis = 1) # , 'Loyalty'\n",
    "display(df_pr)"
   ]
  },
  {
   "cell_type": "markdown",
   "id": "d5c00ae7",
   "metadata": {},
   "source": [
    "### 3.2 Построение распределений признаков"
   ]
  },
  {
   "cell_type": "code",
   "execution_count": 13,
   "id": "b1e3ec99",
   "metadata": {
    "scrolled": true
   },
   "outputs": [
    {
     "data": {
      "image/png": "[encoded data removed]",
      "text/plain": [
       "<Figure size 720x360 with 1 Axes>"
      ]
     },
     "metadata": {
      "needs_background": "light"
     },
     "output_type": "display_data"
    },
    {
     "data": {
      "image/png": "[encoded data removed]",
      "text/plain": [
       "<Figure size 720x360 with 1 Axes>"
      ]
     },
     "metadata": {
      "needs_background": "light"
     },
     "output_type": "display_data"
    },
    {
     "data": {
      "image/png": "[encoded data removed]",
      "text/plain": [
       "<Figure size 720x360 with 1 Axes>"
      ]
     },
     "metadata": {
      "needs_background": "light"
     },
     "output_type": "display_data"
    },
    {
     "data": {
      "image/png": "[encoded data removed]",
      "text/plain": [
       "<Figure size 720x360 with 1 Axes>"
      ]
     },
     "metadata": {
      "needs_background": "light"
     },
     "output_type": "display_data"
    },
    {
     "data": {
      "image/png": "[encoded data removed]",
      "text/plain": [
       "<Figure size 720x360 with 1 Axes>"
      ]
     },
     "metadata": {
      "needs_background": "light"
     },
     "output_type": "display_data"
    },
    {
     "data": {
      "image/png": "[encoded data removed]",
      "text/plain": [
       "<Figure size 720x360 with 1 Axes>"
      ]
     },
     "metadata": {
      "needs_background": "light"
     },
     "output_type": "display_data"
    }
   ],
   "source": [
    "for feature in df_pr.columns:\n",
    "    plt.subplots(figsize=(10, 5))\n",
    "    sn.countplot(data=df_pr, x=feature, hue = 'Churn')\n",
    "    plt.show() "
   ]
  },
  {
   "cell_type": "markdown",
   "id": "b8a7e938",
   "metadata": {},
   "source": [
    "<div class='alert alert-success'> 👍\n",
    "Неплохая визуализация данных, тебе удалось автоматизировать процесс отрисовки. Сами графики читаемые, но не совсем понятно для чего нужен такой масштаб. Не забывай про возможность располагать графики на сетке с помощью с субплотов, это позволяет экономить пространство и улучшает восприятие.\n"
   ]
  },
  {
   "cell_type": "markdown",
   "id": "e68fef2e",
   "metadata": {},
   "source": [
    "<div class=\"alert alert-info\"> <b>Комментарий студента:</b> Спасибо! Масштаб поменял.</div>"
   ]
  },
  {
   "cell_type": "markdown",
   "id": "d173545e",
   "metadata": {},
   "source": [
    "Среди всех городов самая большая доля ушедших клиентов в Ростове Великом.\n",
    "\n",
    "Среди женщин доля уходов выше.\n",
    "\n",
    "Средний возраст ушедших выше. \n",
    "\n",
    "Среди пользователей абсолютное большинство клиентов имеют 1 или 2 продукта. Среди них доля ушедших активных пользователей с одним продуктом выше чем, доля ушедших с двумя продуктами."
   ]
  },
  {
   "cell_type": "markdown",
   "id": "d39d69b1",
   "metadata": {},
   "source": [
    "<div class='alert alert-danger'> ⛔️\n",
    "Мне кажется тут начался поворот не туда, нам нужны сегменты прежде всего в разрезе числа используемых продуктов."
   ]
  },
  {
   "cell_type": "markdown",
   "id": "cf3589e4",
   "metadata": {},
   "source": [
    "<div class=\"alert alert-info\"> <b>Комментарий студента:</b> Спасибо! Удалил распределение по городам </div>"
   ]
  },
  {
   "cell_type": "markdown",
   "id": "01bb68c8",
   "metadata": {},
   "source": [
    "### 3.3 Удаляем лишние признаки."
   ]
  },
  {
   "cell_type": "code",
   "execution_count": 14,
   "id": "9a23692e",
   "metadata": {},
   "outputs": [
    {
     "data": {
      "text/html": [
       "<div>\n",
       "<style scoped>\n",
       "    .dataframe tbody tr th:only-of-type {\n",
       "        vertical-align: middle;\n",
       "    }\n",
       "\n",
       "    .dataframe tbody tr th {\n",
       "        vertical-align: top;\n",
       "    }\n",
       "\n",
       "    .dataframe thead th {\n",
       "        text-align: right;\n",
       "    }\n",
       "</style>\n",
       "<table border=\"1\" class=\"dataframe\">\n",
       "  <thead>\n",
       "    <tr style=\"text-align: right;\">\n",
       "      <th></th>\n",
       "      <th>Products</th>\n",
       "      <th>Churn</th>\n",
       "    </tr>\n",
       "  </thead>\n",
       "  <tbody>\n",
       "    <tr>\n",
       "      <th>0</th>\n",
       "      <td>1</td>\n",
       "      <td>1</td>\n",
       "    </tr>\n",
       "    <tr>\n",
       "      <th>1</th>\n",
       "      <td>1</td>\n",
       "      <td>0</td>\n",
       "    </tr>\n",
       "    <tr>\n",
       "      <th>2</th>\n",
       "      <td>3</td>\n",
       "      <td>1</td>\n",
       "    </tr>\n",
       "    <tr>\n",
       "      <th>3</th>\n",
       "      <td>2</td>\n",
       "      <td>0</td>\n",
       "    </tr>\n",
       "    <tr>\n",
       "      <th>4</th>\n",
       "      <td>1</td>\n",
       "      <td>0</td>\n",
       "    </tr>\n",
       "    <tr>\n",
       "      <th>...</th>\n",
       "      <td>...</td>\n",
       "      <td>...</td>\n",
       "    </tr>\n",
       "    <tr>\n",
       "      <th>9995</th>\n",
       "      <td>2</td>\n",
       "      <td>0</td>\n",
       "    </tr>\n",
       "    <tr>\n",
       "      <th>9996</th>\n",
       "      <td>1</td>\n",
       "      <td>0</td>\n",
       "    </tr>\n",
       "    <tr>\n",
       "      <th>9997</th>\n",
       "      <td>1</td>\n",
       "      <td>1</td>\n",
       "    </tr>\n",
       "    <tr>\n",
       "      <th>9998</th>\n",
       "      <td>2</td>\n",
       "      <td>1</td>\n",
       "    </tr>\n",
       "    <tr>\n",
       "      <th>9999</th>\n",
       "      <td>1</td>\n",
       "      <td>0</td>\n",
       "    </tr>\n",
       "  </tbody>\n",
       "</table>\n",
       "<p>9589 rows × 2 columns</p>\n",
       "</div>"
      ],
      "text/plain": [
       "      Products  Churn\n",
       "0            1      1\n",
       "1            1      0\n",
       "2            3      1\n",
       "3            2      0\n",
       "4            1      0\n",
       "...        ...    ...\n",
       "9995         2      0\n",
       "9996         1      0\n",
       "9997         1      1\n",
       "9998         2      1\n",
       "9999         1      0\n",
       "\n",
       "[9589 rows x 2 columns]"
      ]
     },
     "metadata": {},
     "output_type": "display_data"
    }
   ],
   "source": [
    "df_cor = df_cor.drop(columns = ['userid','score','Objects','Balance','CreditCard','estimated_salary', 'City_Рыбинск', 'City_Ярославль', 'Gender_М', 'Age', 'Loyalty','City_Ростов Великий','Gender_Ж'], axis = 1) # , 'Loyalty'\n",
    "display(df_cor)"
   ]
  },
  {
   "cell_type": "markdown",
   "id": "652f4d04",
   "metadata": {},
   "source": [
    "<div class='alert alert-danger'> ⛔️\n",
    "То, что ты пытаешься сделать это называется one hot кодировка. В пандасе есть встроенный метод get_dummies, воспользуйся им чтобы закодировать сразу все города."
   ]
  },
  {
   "cell_type": "markdown",
   "id": "9c723ad4",
   "metadata": {},
   "source": [
    "<div class=\"alert alert-info\"> <b>Комментарий студента:</b> Спасибо! Применил get_dummies в пункте 2.4.</div>"
   ]
  },
  {
   "cell_type": "markdown",
   "id": "b633731e",
   "metadata": {},
   "source": [
    "### 3.4 Добавляем столбец c индикатором: клиент имеет 1 продукт или нет"
   ]
  },
  {
   "cell_type": "code",
   "execution_count": 15,
   "id": "5ce4fa4b",
   "metadata": {},
   "outputs": [],
   "source": [
    "def equal(df_city,city):\n",
    "    \"\"\"\n",
    "    Возвращает единицу при совпадениии названия города и ноль при несовпадениии.\n",
    "    \"\"\"\n",
    "    if df_city == city:\n",
    "         return 1\n",
    "    if df_city != city:\n",
    "         return 0"
   ]
  },
  {
   "cell_type": "code",
   "execution_count": 16,
   "id": "538ba297",
   "metadata": {},
   "outputs": [
    {
     "data": {
      "text/html": [
       "<div>\n",
       "<style scoped>\n",
       "    .dataframe tbody tr th:only-of-type {\n",
       "        vertical-align: middle;\n",
       "    }\n",
       "\n",
       "    .dataframe tbody tr th {\n",
       "        vertical-align: top;\n",
       "    }\n",
       "\n",
       "    .dataframe thead th {\n",
       "        text-align: right;\n",
       "    }\n",
       "</style>\n",
       "<table border=\"1\" class=\"dataframe\">\n",
       "  <thead>\n",
       "    <tr style=\"text-align: right;\">\n",
       "      <th></th>\n",
       "      <th>Churn</th>\n",
       "      <th>1 Product</th>\n",
       "    </tr>\n",
       "  </thead>\n",
       "  <tbody>\n",
       "    <tr>\n",
       "      <th>0</th>\n",
       "      <td>1</td>\n",
       "      <td>1</td>\n",
       "    </tr>\n",
       "    <tr>\n",
       "      <th>1</th>\n",
       "      <td>0</td>\n",
       "      <td>1</td>\n",
       "    </tr>\n",
       "    <tr>\n",
       "      <th>2</th>\n",
       "      <td>1</td>\n",
       "      <td>0</td>\n",
       "    </tr>\n",
       "    <tr>\n",
       "      <th>3</th>\n",
       "      <td>0</td>\n",
       "      <td>0</td>\n",
       "    </tr>\n",
       "    <tr>\n",
       "      <th>4</th>\n",
       "      <td>0</td>\n",
       "      <td>1</td>\n",
       "    </tr>\n",
       "    <tr>\n",
       "      <th>...</th>\n",
       "      <td>...</td>\n",
       "      <td>...</td>\n",
       "    </tr>\n",
       "    <tr>\n",
       "      <th>9995</th>\n",
       "      <td>0</td>\n",
       "      <td>0</td>\n",
       "    </tr>\n",
       "    <tr>\n",
       "      <th>9996</th>\n",
       "      <td>0</td>\n",
       "      <td>1</td>\n",
       "    </tr>\n",
       "    <tr>\n",
       "      <th>9997</th>\n",
       "      <td>1</td>\n",
       "      <td>1</td>\n",
       "    </tr>\n",
       "    <tr>\n",
       "      <th>9998</th>\n",
       "      <td>1</td>\n",
       "      <td>0</td>\n",
       "    </tr>\n",
       "    <tr>\n",
       "      <th>9999</th>\n",
       "      <td>0</td>\n",
       "      <td>1</td>\n",
       "    </tr>\n",
       "  </tbody>\n",
       "</table>\n",
       "<p>9589 rows × 2 columns</p>\n",
       "</div>"
      ],
      "text/plain": [
       "      Churn  1 Product\n",
       "0         1          1\n",
       "1         0          1\n",
       "2         1          0\n",
       "3         0          0\n",
       "4         0          1\n",
       "...     ...        ...\n",
       "9995      0          0\n",
       "9996      0          1\n",
       "9997      1          1\n",
       "9998      1          0\n",
       "9999      0          1\n",
       "\n",
       "[9589 rows x 2 columns]"
      ]
     },
     "metadata": {},
     "output_type": "display_data"
    }
   ],
   "source": [
    "df_cor['1 Product'] = df_cor.apply(lambda x: equal(x['Products'], 1), axis =  1)\n",
    "\n",
    "df_cor = df_cor.drop('Products', axis = 1)\n",
    "\n",
    "display(df_cor)"
   ]
  },
  {
   "cell_type": "markdown",
   "id": "8817aa17",
   "metadata": {},
   "source": [
    "## 4 Сегментация данных (выделение сегментов)\n",
    "Проведем сегментацию по числу продуктов, выделяя два кластера по двум признакам клиентов:\n",
    "- 1 продукт у клиента или несколько\n",
    "- отток"
   ]
  },
  {
   "cell_type": "markdown",
   "id": "dc90953c",
   "metadata": {},
   "source": [
    "### 4.1 Подготовка данных"
   ]
  },
  {
   "cell_type": "code",
   "execution_count": 17,
   "id": "bab5335a",
   "metadata": {},
   "outputs": [],
   "source": [
    "df_cl =pd.DataFrame()\n",
    "df_cl['1 Product'] = df_cor['1 Product']\n",
    "df_cl['Churn'] = df_cor['Churn']"
   ]
  },
  {
   "cell_type": "markdown",
   "id": "81d36389",
   "metadata": {},
   "source": [
    "<div class='alert alert-danger'> ⛔️\n",
    "Тут не нужно ничего масштабировать. На таких признаках и так все будет работать тк у них одинаковый масштаб. Там везде только 0/1"
   ]
  },
  {
   "cell_type": "markdown",
   "id": "b6c05895",
   "metadata": {},
   "source": [
    "<div class=\"alert alert-info\"> <b>Комментарий студента:</b> Спасибо! Убрал</div>"
   ]
  },
  {
   "cell_type": "markdown",
   "id": "59f4be20",
   "metadata": {},
   "source": [
    "# 4.2 Кластеризация"
   ]
  },
  {
   "cell_type": "code",
   "execution_count": 18,
   "id": "5a459b72",
   "metadata": {},
   "outputs": [
    {
     "data": {
      "text/html": [
       "<div>\n",
       "<style scoped>\n",
       "    .dataframe tbody tr th:only-of-type {\n",
       "        vertical-align: middle;\n",
       "    }\n",
       "\n",
       "    .dataframe tbody tr th {\n",
       "        vertical-align: top;\n",
       "    }\n",
       "\n",
       "    .dataframe thead th {\n",
       "        text-align: right;\n",
       "    }\n",
       "</style>\n",
       "<table border=\"1\" class=\"dataframe\">\n",
       "  <thead>\n",
       "    <tr style=\"text-align: right;\">\n",
       "      <th></th>\n",
       "      <th>userid</th>\n",
       "      <th>score</th>\n",
       "      <th>City</th>\n",
       "      <th>Gender</th>\n",
       "      <th>Age</th>\n",
       "      <th>Objects</th>\n",
       "      <th>Balance</th>\n",
       "      <th>Products</th>\n",
       "      <th>CreditCard</th>\n",
       "      <th>Loyalty</th>\n",
       "      <th>estimated_salary</th>\n",
       "      <th>Churn</th>\n",
       "    </tr>\n",
       "    <tr>\n",
       "      <th>kluster</th>\n",
       "      <th></th>\n",
       "      <th></th>\n",
       "      <th></th>\n",
       "      <th></th>\n",
       "      <th></th>\n",
       "      <th></th>\n",
       "      <th></th>\n",
       "      <th></th>\n",
       "      <th></th>\n",
       "      <th></th>\n",
       "      <th></th>\n",
       "      <th></th>\n",
       "    </tr>\n",
       "  </thead>\n",
       "  <tbody>\n",
       "    <tr>\n",
       "      <th>0</th>\n",
       "      <td>4866</td>\n",
       "      <td>4866</td>\n",
       "      <td>4866</td>\n",
       "      <td>4866</td>\n",
       "      <td>4866</td>\n",
       "      <td>4866</td>\n",
       "      <td>4001</td>\n",
       "      <td>4866</td>\n",
       "      <td>4866</td>\n",
       "      <td>4866</td>\n",
       "      <td>4866</td>\n",
       "      <td>4866</td>\n",
       "    </tr>\n",
       "    <tr>\n",
       "      <th>1</th>\n",
       "      <td>4723</td>\n",
       "      <td>4723</td>\n",
       "      <td>4723</td>\n",
       "      <td>4723</td>\n",
       "      <td>4723</td>\n",
       "      <td>4723</td>\n",
       "      <td>2122</td>\n",
       "      <td>4723</td>\n",
       "      <td>4723</td>\n",
       "      <td>4723</td>\n",
       "      <td>4723</td>\n",
       "      <td>4723</td>\n",
       "    </tr>\n",
       "  </tbody>\n",
       "</table>\n",
       "</div>"
      ],
      "text/plain": [
       "         userid  score  City  Gender   Age  Objects  Balance  Products  \\\n",
       "kluster                                                                  \n",
       "0          4866   4866  4866    4866  4866     4866     4001      4866   \n",
       "1          4723   4723  4723    4723  4723     4723     2122      4723   \n",
       "\n",
       "         CreditCard  Loyalty  estimated_salary  Churn  \n",
       "kluster                                                \n",
       "0              4866     4866              4866   4866  \n",
       "1              4723     4723              4723   4723  "
      ]
     },
     "execution_count": 18,
     "metadata": {},
     "output_type": "execute_result"
    }
   ],
   "source": [
    "km = KMeans(n_clusters=2, random_state=0)#,  # задаём число кластеров, равное 5, и фиксируем значение random_state для воспроизводимости результата\n",
    "labels = km.fit_predict(df_cl) # применяем алгоритм к данным и формируем вектор кластеров \n",
    "df['kluster'] = labels\n",
    "df.groupby('kluster').mean()\n",
    "df.groupby('kluster').count()"
   ]
  },
  {
   "cell_type": "markdown",
   "id": "f2ebcb18",
   "metadata": {},
   "source": [
    "### 4.2.1 Визуализация двух полученных сегментов"
   ]
  },
  {
   "cell_type": "code",
   "execution_count": 19,
   "id": "5fe65588",
   "metadata": {
    "scrolled": true
   },
   "outputs": [
    {
     "data": {
      "image/png": "[encoded data removed]",
      "text/plain": [
       "<Figure size 432x288 with 1 Axes>"
      ]
     },
     "metadata": {},
     "output_type": "display_data"
    },
    {
     "data": {
      "image/png": "[encoded data removed]",
      "text/plain": [
       "<Figure size 432x288 with 1 Axes>"
      ]
     },
     "metadata": {},
     "output_type": "display_data"
    },
    {
     "data": {
      "image/png": "[encoded data removed]",
      "text/plain": [
       "<Figure size 432x288 with 1 Axes>"
      ]
     },
     "metadata": {},
     "output_type": "display_data"
    },
    {
     "data": {
      "image/png": "[encoded data removed]",
      "text/plain": [
       "<Figure size 432x288 with 1 Axes>"
      ]
     },
     "metadata": {},
     "output_type": "display_data"
    },
    {
     "data": {
      "image/png": "[encoded data removed]",
      "text/plain": [
       "<Figure size 432x288 with 1 Axes>"
      ]
     },
     "metadata": {},
     "output_type": "display_data"
    }
   ],
   "source": [
    "# оставляем признаки для построения графиков\n",
    "df_graph = df.copy()\n",
    "df_graph = df_graph.drop(['userid','score','Objects','Balance','CreditCard','estimated_salary','Age'], axis = 1)\n",
    "list = [column for column in df_graph]\n",
    "list.remove('kluster')\n",
    "Title =['Распределение клиентов в сегментах по городам',\n",
    "        'Распределение клиентов в сегментах по полу',\n",
    "        'Распределение клиентов в сегментах по числу продуктов',\n",
    "        'Распределение клиентов в сегментах по лояльности',\n",
    "        'Распределение клиентов в сегментах по фактическому оттоку',\n",
    "        \n",
    "       ]\n",
    "i=0\n",
    "for value in list:\n",
    " k = df.groupby(['kluster', value], as_index = False)[['Age']].count()\n",
    " sn.set_style(\"darkgrid\")\n",
    " sn.set_palette('dark')\n",
    " sn.barplot(data = k, x= 'kluster', y = 'Age', hue = value)\n",
    " # формируем заголовок графика и подписи осей средствами matplotlib\n",
    " plt.title(Title[i])\n",
    " plt.xlabel('Сегмент')\n",
    " plt.ylabel('Число клиентов')\n",
    " # выбираем положение легенды и указываем размер шрифта\n",
    " plt.legend(title = value, loc='upper right', fontsize=10)\n",
    " # отображаем график на экране\n",
    " plt.show()\n",
    " i+=1\n"
   ]
  },
  {
   "cell_type": "markdown",
   "id": "f4d16cd7",
   "metadata": {},
   "source": [
    "В *сегмент 0* попали все клиенты, имеющие 1 продукт.\n",
    "Видно, что отток в **сегменте 0** выше, чем в *сегменте 1*."
   ]
  },
  {
   "cell_type": "markdown",
   "id": "46f8588d",
   "metadata": {},
   "source": [
    "<div class='alert alert-danger'> ⛔️ \n",
    "Эти графики можно отрисовать в цикле, либо задать функцию с параметрами для отрисовки."
   ]
  },
  {
   "cell_type": "markdown",
   "id": "da904e6e",
   "metadata": {},
   "source": [
    "<div class=\"alert alert-info\"> <b>Комментарий студента:</b> Спасибо! Сделал</div>"
   ]
  },
  {
   "cell_type": "markdown",
   "id": "a9752110",
   "metadata": {},
   "source": [
    "<div class='alert alert-danger'> ⛔️\n",
    "В целом сегментация некорректна, тк не отвечает условиям заказчика. Сегментируй клиентов в по числу используемых продуктов, при этом обращай внимание прежде всего на отток. Во вторую очередь обращай внимание на остальные признаки. Но они также могут послужить поводом для выделения более узких сегментов или для объединения в более крупные."
   ]
  },
  {
   "cell_type": "markdown",
   "id": "8dbbb3e0",
   "metadata": {},
   "source": [
    "## 5 Статистическое исследование данных (Проверка гипотез)"
   ]
  },
  {
   "cell_type": "markdown",
   "id": "36ee60cc",
   "metadata": {},
   "source": [
    "### 5.1 Гипотеза о различии дохода между теми клиентами, которые пользуются двумя продуктами банка, и теми, которые пользуются одним."
   ]
  },
  {
   "cell_type": "markdown",
   "id": "e242b467",
   "metadata": {},
   "source": [
    "Посчитаем средние оцененные зарплаты клиентов с одним продуктом и с двумя"
   ]
  },
  {
   "cell_type": "code",
   "execution_count": 20,
   "id": "225500dd",
   "metadata": {},
   "outputs": [
    {
     "name": "stdout",
     "output_type": "stream",
     "text": [
      "Средняя в выборке зарплата клиентов с одним продуктом 99777.19963419653 , а с двумя - 100388.04637290446\n"
     ]
    }
   ],
   "source": [
    "product_1 = df[df['Products']==1]['estimated_salary']\n",
    "product_2 = df[df['Products']==2]['estimated_salary']\n",
    "print('Средняя в выборке зарплата клиентов с одним продуктом', product_1.mean(),', а с двумя -', product_2.mean())\n",
    "\n"
   ]
  },
  {
   "cell_type": "markdown",
   "id": "044df945",
   "metadata": {},
   "source": [
    "Средние зарплаты близки.\n",
    "\n",
    "Проверим распределение клиентов с 1 продуктом на нормальность.\n",
    "\n",
    "H0: Распределение зарплат у клиентов с одним продуктом нормально.\n",
    "H1: Распределение зарплат у клиентов с одним продуктом не нормально."
   ]
  },
  {
   "cell_type": "code",
   "execution_count": 21,
   "id": "810f54bd",
   "metadata": {},
   "outputs": [
    {
     "name": "stdout",
     "output_type": "stream",
     "text": [
      "p-значение:  1.754103463886823e-35\n",
      "Отвергаем нулевую гипотезу: распределение не нормально\n"
     ]
    }
   ],
   "source": [
    "alpha = 0.05  # критический уровень статистической значимости\n",
    "\n",
    "results = st.shapiro(product_1)\n",
    "p_value = results[\n",
    "    1\n",
    "]  # второе значение в массиве результатов (с индексом 1) - p-value\n",
    "\n",
    "print('p-значение: ', p_value)\n",
    "\n",
    "if p_value < alpha:\n",
    "    print('Отвергаем нулевую гипотезу: распределение не нормально')\n",
    "else:\n",
    "    print('Не получилось отвергнуть нулевую гипотезу, всё нормально') "
   ]
  },
  {
   "cell_type": "markdown",
   "id": "876d7bdf",
   "metadata": {},
   "source": [
    "Проверим распределение клиентов с 2 продуктами на нормальность:\n",
    "\n",
    "H0: Распределение зарплат у клиентов с двумя продуктами нормально.\n",
    "H1: Распределение зарплат у клиентов с одним продуктом не нормально."
   ]
  },
  {
   "cell_type": "code",
   "execution_count": 22,
   "id": "ae761b43",
   "metadata": {},
   "outputs": [
    {
     "name": "stdout",
     "output_type": "stream",
     "text": [
      "p-значение:  7.882512123925903e-35\n",
      "Отвергаем нулевую гипотезу: распределение не нормально\n"
     ]
    }
   ],
   "source": [
    "results = st.shapiro(product_2)\n",
    "p_value = results[\n",
    "    1\n",
    "]  # второе значение в массиве результатов (с индексом 1) - p-value\n",
    "\n",
    "print('p-значение: ', p_value)\n",
    "\n",
    "if p_value < alpha:\n",
    "    print('Отвергаем нулевую гипотезу: распределение не нормально')\n",
    "else:\n",
    "    print('Не получилось отвергнуть нулевую гипотезу, всё нормально') "
   ]
  },
  {
   "cell_type": "markdown",
   "id": "8d98048f",
   "metadata": {},
   "source": [
    "Обе выборки распределены не нормально, применим непараметрический тест Уилкоксона-Манна-Уитни для оценки различия в выборках.\n",
    "\n",
    "H0: Есть разница в выборках с зарплатами у клиентов с одним и двумя продуктами.\n",
    "\n",
    "H1: Нет разницы в выборках с зарплатами у клиентов с одним и двумя продуктами."
   ]
  },
  {
   "cell_type": "code",
   "execution_count": 23,
   "id": "45c4a6f1",
   "metadata": {},
   "outputs": [
    {
     "name": "stdout",
     "output_type": "stream",
     "text": [
      "p-значение:  0.3021667359282105\n",
      "Не получилось отвергнуть нулевую гипотезу, вывод о различии сделать нельзя\n"
     ]
    }
   ],
   "source": [
    "results = st.mannwhitneyu(product_1, product_2, True, 'less')\n",
    "\n",
    "print('p-значение: ',  results.pvalue)\n",
    "\n",
    "if results.pvalue < alpha:\n",
    "    print('Отвергаем нулевую гипотезу: разница статистически значима')\n",
    "else:\n",
    "    print(\n",
    "        'Не получилось отвергнуть нулевую гипотезу, вывод о различии сделать нельзя'\n",
    "    )"
   ]
  },
  {
   "cell_type": "markdown",
   "id": "fa127862",
   "metadata": {},
   "source": [
    "<div class='alert alert-success'> 👍\n",
    "В целом все корректно, но не сформулирована альтернативная гипотеза Н1. "
   ]
  },
  {
   "cell_type": "markdown",
   "id": "339b318d",
   "metadata": {},
   "source": [
    "<div class=\"alert alert-info\"> <b>Комментарий студента:</b> Спасибо! добавил H1.</div>"
   ]
  },
  {
   "cell_type": "markdown",
   "id": "c2fffac2",
   "metadata": {},
   "source": [
    "### 5.2 Гипотеза о равенстве средних возрастов между ушедшими и остающимися клиентами банка клиентами."
   ]
  },
  {
   "cell_type": "markdown",
   "id": "7a9a3bc5",
   "metadata": {},
   "source": [
    "Посчитаем выборочное среднее возраста ушедших и остающихся клиентами банка клиентов."
   ]
  },
  {
   "cell_type": "code",
   "execution_count": 24,
   "id": "1250740f",
   "metadata": {},
   "outputs": [
    {
     "name": "stdout",
     "output_type": "stream",
     "text": [
      "Выборочный средний возраст клиентов остающихся клиентами банка 36.08919696573372 , а ушедших - 43.84354091610911\n"
     ]
    }
   ],
   "source": [
    "Churn_0 = df[df['Churn']==0]['Age']\n",
    "Churn_1 = df[df['Churn']==1]['Age']\n",
    "print('Выборочный средний возраст клиентов остающихся клиентами банка', Churn_0.mean(),', а ушедших -', Churn_1.mean())\n",
    "\n"
   ]
  },
  {
   "cell_type": "markdown",
   "id": "59e288a1",
   "metadata": {},
   "source": [
    "Выборочный средний возраст ушедших выше."
   ]
  },
  {
   "cell_type": "markdown",
   "id": "074776a7",
   "metadata": {},
   "source": [
    "Проверим распределение по возрасту ушедших клиентов на нормальность:\n",
    "\n",
    "H0: Распределение по возрасту ушедших клиентов нормально.\n",
    "\n",
    "H1: Распределение по возрасту ушедших клиентов не нормально."
   ]
  },
  {
   "cell_type": "code",
   "execution_count": 25,
   "id": "e405ceef",
   "metadata": {},
   "outputs": [
    {
     "name": "stdout",
     "output_type": "stream",
     "text": [
      "p-значение:  2.944668120452576e-11\n",
      "Отвергаем нулевую гипотезу: распределение не нормально\n"
     ]
    }
   ],
   "source": [
    "results = st.shapiro(Churn_1)\n",
    "p_value = results[\n",
    "    1\n",
    "]  # второе значение в массиве результатов (с индексом 1) - p-value\n",
    "\n",
    "print('p-значение: ', p_value)\n",
    "\n",
    "if p_value < alpha:\n",
    "    print('Отвергаем нулевую гипотезу: распределение не нормально')\n",
    "else:\n",
    "    print('Не получилось отвергнуть нулевую гипотезу, всё нормально') "
   ]
  },
  {
   "cell_type": "markdown",
   "id": "f53c1bf5",
   "metadata": {},
   "source": [
    "Проверим распределение по возрасту не ушедших клиентов на нормальность:\n",
    "\n",
    "H0: Распределение по возрасту не ушедших клиентов нормально.\n",
    "\n",
    "H1: Распределение по возрасту не ушедших клиентов не нормально."
   ]
  },
  {
   "cell_type": "code",
   "execution_count": 26,
   "id": "8a22b363",
   "metadata": {},
   "outputs": [
    {
     "name": "stdout",
     "output_type": "stream",
     "text": [
      "p-значение:  1.606161097753812e-32\n",
      "Отвергаем нулевую гипотезу: распределение не нормально\n"
     ]
    }
   ],
   "source": [
    "results = st.shapiro(Churn_0)\n",
    "p_value = results[\n",
    "    1\n",
    "]  # второе значение в массиве результатов (с индексом 1) - p-value\n",
    "\n",
    "print('p-значение: ', p_value)\n",
    "\n",
    "if p_value < alpha:\n",
    "    print('Отвергаем нулевую гипотезу: распределение не нормально')\n",
    "else:\n",
    "    print('Не получилось отвергнуть нулевую гипотезу, всё нормально') "
   ]
  },
  {
   "cell_type": "markdown",
   "id": "4ffa6c92",
   "metadata": {},
   "source": [
    "Обе выборки распределены не нормально, применим непараметрический тест Уилкоксона-Манна-Уитни для оценки различия в выборках.\n",
    "\n",
    "H0: Средний возраст одинаков\n",
    "\n",
    "H1: Средний возраст различается"
   ]
  },
  {
   "cell_type": "code",
   "execution_count": 27,
   "id": "fbe783e4",
   "metadata": {},
   "outputs": [
    {
     "name": "stdout",
     "output_type": "stream",
     "text": [
      "p-значение:  5.025419342610836e-256\n",
      "Отвергаем нулевую гипотезу: разница статистически значима\n"
     ]
    }
   ],
   "source": [
    "results = st.mannwhitneyu(Churn_0, Churn_1, True, 'less')\n",
    "\n",
    "print('p-значение: ',  results.pvalue)\n",
    "\n",
    "if results.pvalue < alpha:\n",
    "    print('Отвергаем нулевую гипотезу: разница статистически значима')\n",
    "else:\n",
    "    print(\n",
    "        'Не получилось отвергнуть нулевую гипотезу, вывод о различии сделать нельзя'\n",
    "    )"
   ]
  },
  {
   "cell_type": "markdown",
   "id": "84159dad",
   "metadata": {},
   "source": [
    "Средний возраст ушедших и остающихся клиентов различен."
   ]
  },
  {
   "cell_type": "markdown",
   "id": "f98d2590",
   "metadata": {},
   "source": [
    "<div class='alert alert-danger'> ⛔️\n",
    "Не понял для чего тут сразу два критерия применяется и почему проверяется одна и та же гипотеза?"
   ]
  },
  {
   "cell_type": "markdown",
   "id": "757004a2",
   "metadata": {},
   "source": [
    "<div class=\"alert alert-info\"> <b>Комментарий студента:</b> Извините)) оставил Мана-Уитни.</div>"
   ]
  },
  {
   "cell_type": "markdown",
   "id": "d2fc5bee",
   "metadata": {},
   "source": [
    "## 6 Выводы и рекомендации по удержанию сегментов\n",
    "\n",
    "Ссылка на презентацию: https://disk.yandex.kz/i/inKf92MbL8SA3A\n",
    "\n",
    "Выделено 2 сегмента клиентов:\n",
    "\n",
    "1. **Сегмент 0**. Клиенты с 1 продуктом. \n",
    "\n",
    "В этом сегменте высокий отток. \n",
    "\n",
    "Для удержания клиентов из сегмента 0 рекомендуется увеличить число продуктов клиентов до двух.\n",
    "\n",
    "2. **Сегмент 1**. Клиенты, имеющие от 2 до 4 продуктов. \n",
    "\n",
    "В этом сегменте низкий отток. При этом относительный отток у клиентов с 3 и 4 продуктами выше, чем у клиентов с двумя. \n",
    "\n",
    "Для удержания клиентов из сегмента 1 рекомендуется не увеличивать число продуктов у клиентов."
   ]
  },
  {
   "cell_type": "markdown",
   "id": "0bb64252",
   "metadata": {},
   "source": [
    "<div class='alert alert-danger'> ⛔️\n",
    "У тебя получились хорошие, детальные выводы. Но для целей аналитики и более бысрого восприятия информации удобен другой формат представления данных. Ожидаю что формат представления выводов и рекомендаций будет следующий: 1) сегмент – описание – рекомендации 2) сегмент – описание – рекомендации.\n",
    "\n",
    "Также сами выводы нужно будет поменять после изменений в сегментацию."
   ]
  },
  {
   "cell_type": "markdown",
   "id": "bf3effed",
   "metadata": {},
   "source": [
    "<div class=\"alert alert-info\"> <b>Комментарий студента:</b> Спасибо! Поправил выводы.</div>"
   ]
  }
 ],
 "metadata": {
  "ExecuteTimeLog": [
   {
    "duration": 82,
    "start_time": "2022-11-30T15:39:16.642Z"
   },
   {
    "duration": 94,
    "start_time": "2022-11-30T15:42:24.117Z"
   },
   {
    "duration": 93,
    "start_time": "2022-11-30T15:43:23.798Z"
   },
   {
    "duration": 95,
    "start_time": "2022-11-30T15:45:11.550Z"
   },
   {
    "duration": 107,
    "start_time": "2022-11-30T15:48:30.193Z"
   },
   {
    "duration": 76,
    "start_time": "2022-11-30T15:49:10.773Z"
   }
  ],
  "kernelspec": {
   "display_name": "Python 3",
   "language": "python",
   "name": "python3"
  },
  "language_info": {
   "codemirror_mode": {
    "name": "ipython",
    "version": 3
   },
   "file_extension": ".py",
   "mimetype": "text/x-python",
   "name": "python",
   "nbconvert_exporter": "python",
   "pygments_lexer": "ipython3",
   "version": "3.8.8"
  },
  "toc": {
   "base_numbering": 1,
   "nav_menu": {},
   "number_sections": true,
   "sideBar": true,
   "skip_h1_title": true,
   "title_cell": "Table of Contents",
   "title_sidebar": "Contents",
   "toc_cell": false,
   "toc_position": {},
   "toc_section_display": true,
   "toc_window_display": false
  }
 },
 "nbformat": 4,
 "nbformat_minor": 5
}
