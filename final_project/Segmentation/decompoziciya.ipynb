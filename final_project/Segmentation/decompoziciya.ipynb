{
 "cells": [
  {
   "cell_type": "markdown",
   "id": "3da147e9",
   "metadata": {},
   "source": [
    "<div style=\"background:#d4d6fa; color:#000; padding:10px\">\n",
    "    <p><big><b> Комментарий тимлида: </b></big></p> \n",
    "Здравствуй, Владимир! Меня зовут Москвин Антон! Я буду использовать стандартную цветовую разметку комментариев:\n",
    "<div class=\"alert alert-success\">\n",
    "        <strong>👍 Зелёным</strong> цветом я буду выделять удачные и элегантные решения, на которые можно опираться в будущих проектах. \n",
    "    </div> \n",
    "    <div class=\"alert alert-warning\">\n",
    "        <strong>⚠️Желтым</strong> будет выделено то, что в следующий раз стоит сделать по-другому. Одно-два таких замечаний в проекте допустимы, но если их будет больше, то нужно будет внести изменения.\n",
    "    </div>\n",
    "    <div class=\"alert alert-danger\">\n",
    "        <strong>⛔️Красным</strong> - то, что необходимо исправить, прежде чем я смогу принять твой проект.\n",
    "    </div> \n",
    "Пожалуйста, не удаляй и не передвигай их.\n",
    "</div>\n"
   ]
  },
  {
   "cell_type": "markdown",
   "id": "38a3938a",
   "metadata": {},
   "source": [
    "# Сегментация клиентов в банке"
   ]
  },
  {
   "cell_type": "markdown",
   "id": "8c4570fa",
   "metadata": {},
   "source": [
    "<div class='alert alert-danger'> ⛔️\n",
    "Добавь общую информацию о проекте и его целях!"
   ]
  },
  {
   "cell_type": "markdown",
   "id": "6dabc3ce",
   "metadata": {},
   "source": [
    "<div class='alert alert-success'> 👍\t    \n",
    "У тебя получился отличный план, продолжай работу над проектом в соответствии с пунктами данного плана!\n"
   ]
  },
  {
   "cell_type": "markdown",
   "id": "836565ee",
   "metadata": {},
   "source": [
    "## Загрузка данных/библиотек и первичное ознакомление\n",
    "1. Импорт библиотек **pandas**, **seaborn**, **matplotlib**, **stats from scipy**, **statsmodels** и **numpy**\n",
    "2. Загрузка входных данных\n",
    "3. Обзор входных данных: \n",
    " - описание полей и числа строк\n",
    " - типы данных\n",
    " - наличие пропусков"
   ]
  },
  {
   "cell_type": "markdown",
   "id": "29f140fd",
   "metadata": {},
   "source": [
    "## Преодбработка данных\n",
    "1. Удаление явных и неявных дубликатов\n",
    "2. Изучение пропусков в поле **Balance**\n",
    "3. Удаление записей с аномальными значениями\n",
    "3. Добавление поля с категориями возрастов"
   ]
  },
  {
   "cell_type": "markdown",
   "id": "8087e9d5",
   "metadata": {},
   "source": [
    "## Исследовательский анализ данных (EDA)\n",
    "Анализ с целью выявить дополнительные признаки (помимо числа продуктов и оттока) для сегментации и числа сегментов\n",
    "1. Построение матрицы корелляции\n",
    "2. Построение графиков с распределением признаков"
   ]
  },
  {
   "cell_type": "markdown",
   "id": "8817aa17",
   "metadata": {},
   "source": [
    "## Сегментация данных (выделение сегментов)\n",
    "1. Выделение сегментов кластеризацией методом **К-средних**\n",
    "2. Визуализация полученного распределения клиентов по кластерам - сегментам\n",
    "3. Значения признаков в центрах кластеров"
   ]
  },
  {
   "cell_type": "markdown",
   "id": "8dbbb3e0",
   "metadata": {},
   "source": [
    "## Статистическое исследование данных (Проверка гипотез)\n",
    "1. Обоснование выбора статкритерия для проверки первой гипотезы\n",
    "2. Проверка первой гипотезы\n",
    "3. Формулировка второй гипотезы\n",
    "4. Обоснование выбора статкритерия для проверки второй гипотезы"
   ]
  },
  {
   "cell_type": "markdown",
   "id": "d2fc5bee",
   "metadata": {},
   "source": [
    "## Выводы и рекомендации по удержанию сегментов\n",
    "1. Представление полученных сегментов\n",
    "2. Рекомендации по удержанию для сегментов с оттоком"
   ]
  }
 ],
 "metadata": {
  "ExecuteTimeLog": [
   {
    "duration": 131,
    "start_time": "2022-11-22T16:42:20.025Z"
   }
  ],
  "kernelspec": {
   "display_name": "Python 3",
   "language": "python",
   "name": "python3"
  },
  "language_info": {
   "codemirror_mode": {
    "name": "ipython",
    "version": 3
   },
   "file_extension": ".py",
   "mimetype": "text/x-python",
   "name": "python",
   "nbconvert_exporter": "python",
   "pygments_lexer": "ipython3",
   "version": "3.8.8"
  },
  "toc": {
   "base_numbering": 1,
   "nav_menu": {},
   "number_sections": true,
   "sideBar": true,
   "skip_h1_title": true,
   "title_cell": "Table of Contents",
   "title_sidebar": "Contents",
   "toc_cell": false,
   "toc_position": {},
   "toc_section_display": true,
   "toc_window_display": false
  }
 },
 "nbformat": 4,
 "nbformat_minor": 5
}
